{
 "cells": [
  {
   "cell_type": "code",
   "execution_count": null,
   "metadata": {},
   "outputs": [],
   "source": [
    "import pandas as pd\n",
    "import numpy as np\n",
    "\n",
    "df = pd.read_csv('WHO_first9cols.csv')\n",
    "df"
   ]
  },
  {
   "cell_type": "markdown",
   "metadata": {},
   "source": [
    "### 통계 메서드"
   ]
  },
  {
   "cell_type": "code",
   "execution_count": null,
   "metadata": {},
   "outputs": [],
   "source": [
    "df.describe()  # 통계 요약"
   ]
  },
  {
   "cell_type": "code",
   "execution_count": null,
   "metadata": {},
   "outputs": [],
   "source": [
    "df.count()  # 결측치(NaN)가 아닌 데이터의 총 갯수"
   ]
  },
  {
   "cell_type": "code",
   "execution_count": null,
   "metadata": {},
   "outputs": [],
   "source": [
    "df.std() # 표준편차"
   ]
  },
  {
   "cell_type": "markdown",
   "metadata": {},
   "source": [
    "### 통계 기초\n",
    "- 평균(mean) : 모든 데이터의 값을 더하고 데이터의 갯수로 나눈 값, 중심 성향에 대한 추정량을 계산할 때\n",
    "- 편차(deviation) : 관측값과 평균값과의 차이,(데이터값 - 평균), 양수나 음수의 값을 갖는다\n",
    "- 분산(variance) : 편차의 제곱의 합의 평균, 음수값이 양수로 더해진다,실제값보다 너무 멀어져 있게 된다\n",
    "- 표준편차(standard deviation) : 분산에 루트(제곱근)을 씌운 값"
   ]
  },
  {
   "cell_type": "code",
   "execution_count": null,
   "metadata": {},
   "outputs": [],
   "source": [
    "df.mad() # Mean Absolute Deviation , 평균 절대 편차"
   ]
  },
  {
   "cell_type": "code",
   "execution_count": null,
   "metadata": {},
   "outputs": [],
   "source": [
    "df.mean() # 평균"
   ]
  },
  {
   "cell_type": "code",
   "execution_count": null,
   "metadata": {},
   "outputs": [],
   "source": [
    "df.median()   # 중위수, 2사분위수(50%,Q2)"
   ]
  },
  {
   "cell_type": "code",
   "execution_count": null,
   "metadata": {},
   "outputs": [],
   "source": [
    "df.sum()\n",
    "df.max()\n",
    "df.min()\n",
    "df.mode() # 최빈값, 빈도가 가장 높은 값\n",
    "df.var()  # 분산\n",
    "df.skew() # 비대칭도, 왜도 ,skewness\n",
    "df.kurt() # 첨도,kurtosis, 뽀족한 정도"
   ]
  },
  {
   "cell_type": "markdown",
   "metadata": {},
   "source": [
    "### 조건 검색 : Boolean indexing"
   ]
  },
  {
   "cell_type": "code",
   "execution_count": null,
   "metadata": {},
   "outputs": [],
   "source": [
    "# 조건식으로 검색\n",
    "df[df > df.mean()]  # 불필요한 출력\n",
    "\n",
    "# 올바른 검색 출력\n",
    "# 'Adolescent fertility rate (%)' 이 평균값 보다 큰 행을 추출\n",
    "df[df['Adolescent fertility rate (%)'] > \n",
    "   df['Adolescent fertility rate (%)'].mean()]\n",
    "# df[[True,False]*101]\n",
    "# df['Adolescent fertility rate (%)'].mean()  # 59.45762711864407"
   ]
  },
  {
   "cell_type": "code",
   "execution_count": null,
   "metadata": {},
   "outputs": [],
   "source": [
    "# 성인 중에서 글을 읽을 수 있는 사람의 비율이 30% 미만인 행 추출\n",
    "df[ df['Adult literacy rate (%)'] < 30 ]"
   ]
  },
  {
   "cell_type": "code",
   "execution_count": null,
   "metadata": {},
   "outputs": [],
   "source": [
    "# 조건식 2개 사용\n",
    "# 성인 중에서 글을 읽을 수 있는 사람의 비율이 30% 보다 크고 50%미만인 행 추출\n",
    "df[(df['Adult literacy rate (%)'] > 30) & \n",
    "   (df['Adult literacy rate (%)'] < 50) ]"
   ]
  },
  {
   "cell_type": "code",
   "execution_count": null,
   "metadata": {},
   "outputs": [],
   "source": [
    "type(df['Adult literacy rate (%)'] < 30 )      # Series 객체\n",
    "type(df[df['Adult literacy rate (%)'] < 30 ])  # DataFrame 객체"
   ]
  },
  {
   "cell_type": "code",
   "execution_count": null,
   "metadata": {},
   "outputs": [],
   "source": [
    "df['Adult literacy rate (%)'][df['Adult literacy rate (%)'] < 30]  # Series 객체"
   ]
  },
  {
   "cell_type": "code",
   "execution_count": null,
   "metadata": {},
   "outputs": [],
   "source": [
    "# 실습 과제 1번\n",
    "df = pd.read_csv('boston_train.csv')\n",
    "\n",
    "print(\"Shape:\\n\", df.shape)\n",
    "print(\"Length:\\n\", len(df))\n",
    "print(\"Column Headers:\\n\", df.columns)\n",
    "print(\"Data types:\\n\", df.dtypes)\n",
    "print(\"Index:\\n\", df.index)\n",
    "print(\"Values:\\n\", df.values)\n",
    "print(\"head\",df.head())\n",
    "print(\"teail\",df.tail())\n",
    "print(\"Describe\", df.describe(),\"\\n\")\n",
    "print(\"Non NaN observations\", df.count(),\"\\n\")\n",
    "print(\"MAD\", df.mad(),\"\\n\")\n",
    "print(\"Median\", df.median(),\"\\n\")\n",
    "print(\"Mean\", df.mean(),\"\\n\")\n",
    "print(\"Sum\", df.sum(),\"\\n\")\n",
    "print(\"Min\", df.min(),\"\\n\")\n",
    "print(\"Max\", df.max(),\"\\n\")\n",
    "print(\"Mode\", df.mode(),\"\\n\")\n",
    "print(\"Standard Deviation\", df.std(),\"\\n\")\n",
    "print(\"Variance\", df.var(),\"\\n\")\n",
    "print(\"Skewness\", df.skew(),\"\\n\")\n",
    "print(\"Kurtosis\", df.kurt(),\"\\n\")"
   ]
  },
  {
   "cell_type": "code",
   "execution_count": null,
   "metadata": {},
   "outputs": [],
   "source": [
    "# 실습 과제 2번\n",
    "# 2-1번\n",
    "print('CRIM mean: ', df['CRIM'].mean())\n",
    "print(df[df['CRIM'] > df['CRIM'].mean()])\n",
    "\n",
    "print('-'*50)\n",
    "\n",
    "# 2-2번\n",
    "print('AGE mean: ', df['AGE'].mean())\n",
    "print(df[df['AGE'] < df['AGE'].mean()])\n",
    "\n",
    "print('-'*50)\n",
    "\n",
    "# 2-3번\n",
    "print('MEDV median: ', df['MEDV'].median())\n",
    "print(df[df['MEDV'] < df['MEDV' ].median()])\n",
    "# df[df['MEDV'] < df['MEDV' ].median()]"
   ]
  },
  {
   "cell_type": "markdown",
   "metadata": {},
   "source": [
    "### 데이터 프레임 추가와 합치기"
   ]
  },
  {
   "cell_type": "code",
   "execution_count": null,
   "metadata": {},
   "outputs": [],
   "source": [
    "# 행(수직)으로 합치기 : append(),concat()\n",
    "score_table1 = { '영어': [10,20,30,40,50],\n",
    "                 '수학': [70,80,90,30,20]}\n",
    "score_table2 = { '영어': [20,30,40,50,60],\n",
    "                 '수학': [80,90,30,20,70]}\n",
    "\n",
    "df1 = pd.DataFrame(score_table1)\n",
    "df2 = pd.DataFrame(score_table2)\n",
    "\n",
    "# df1.append(other, ignore_index=False, verify_integrity=False, sort=False) \n",
    "new_df1 = df1.append(df2)  # 행의 인덱스가 중복 출력\n",
    "new_df1\n",
    "\n",
    "new_df2 = df1.append(df2,ignore_index=True) # 행의 인덱스가 중복되지 않음\n",
    "new_df2\n",
    "\n",
    "new_df3 = df1.append(df1,ignore_index=True) # 행의 인덱스가 중복되지 않음\n",
    "new_df3\n",
    "\n",
    "len(new_df3)"
   ]
  },
  {
   "cell_type": "code",
   "execution_count": null,
   "metadata": {},
   "outputs": [],
   "source": [
    "pd.concat([df1,df2],axis=0,ignore_index=True)"
   ]
  },
  {
   "cell_type": "code",
   "execution_count": null,
   "metadata": {},
   "outputs": [],
   "source": [
    "# 열(수평)로 합치기 : concat(),merge(),join()\n",
    "\n",
    "# concat()\n",
    "pd.concat([df1,df2],axis=1)"
   ]
  },
  {
   "cell_type": "code",
   "execution_count": null,
   "metadata": {},
   "outputs": [],
   "source": [
    "# merge()\n",
    "\n",
    "# 내부(inner) 조인 : 공통 조건에 만족되는 부분만 조인된다\n",
    "# 내부조인은 두 테이블의 행을 선택할 때 조인 조건에 지정된 열의 값이 일치하는 \n",
    "# 경우에만 조인된다\n",
    "# 공통조건 : 'EmpNr'\n",
    "\n",
    "dests = pd.read_csv('dest.csv')\n",
    "tips = pd.read_csv('tips.csv')\n",
    "print(dests)\n",
    "print(tips)\n",
    "\n",
    "pd.merge(dests,tips,how='inner',on='EmpNr')\n",
    "\n",
    "# pd.merge(dests,tips,how='inner',on='Dest') # KeyError: 'Dest'"
   ]
  },
  {
   "cell_type": "code",
   "execution_count": null,
   "metadata": {},
   "outputs": [],
   "source": [
    "# 외부 (outer) 조인 : 공통 조건에 관계없이 조인 된다, 결측치는 NaN으로 표시\n",
    "pd.merge(dests,tips,how='outer')"
   ]
  },
  {
   "cell_type": "code",
   "execution_count": null,
   "metadata": {},
   "outputs": [],
   "source": [
    "# df.join(other, on=None, how='left', lsuffix='', rsuffix='', sort=False)()\n",
    "dests.join(tips,lsuffix='_Dest',rsuffix='_Tip')"
   ]
  },
  {
   "cell_type": "code",
   "execution_count": null,
   "metadata": {},
   "outputs": [],
   "source": [
    "# merge() 활용\n",
    "\n",
    "employee = [{'empno':1, 'ename':'kim', 'dept':1},\n",
    "            {'empno':2, 'ename':'lee', 'dept':2}, \n",
    "            {'empno':3, 'ename':'park', 'dept':1}, \n",
    "            {'empno':4, 'ename':'song', 'dept':3},\n",
    "            {'empno':5, 'ename':'min', 'dept':2}]\n",
    "\n",
    "dept=[{'dept':1, 'deptname':'관리직'},\n",
    "      {'dept':2, 'deptname':'영업직'},\n",
    "      {'dept':3, 'deptname':'개발직'}]\n",
    "\n",
    "info =[{'empno':1, 'addr':'서울시','phone':'010-1111-1111'},\n",
    "       {'empno':3, 'addr':'부산시','phone':'010-2222-2222'}, \n",
    "       {'empno':2, 'addr':'광주시','phone':'010-3333-3333'}, \n",
    "       {'empno':5, 'addr':'광주시','phone':'010-4444-4444'},\n",
    "       {'empno':4, 'addr':'광주시','phone':'010-5555-5555'}]\n",
    "\n",
    "emp = pd.DataFrame(employee)\n",
    "dept = pd.DataFrame(dept)\n",
    "info = pd.DataFrame(info)\n",
    "emp\n",
    "dept\n",
    "info "
   ]
  },
  {
   "cell_type": "code",
   "execution_count": null,
   "metadata": {},
   "outputs": [],
   "source": [
    "# 내부 조인\n",
    "m = pd.merge(emp,dept,how='inner',on='dept')\n",
    "m"
   ]
  },
  {
   "cell_type": "code",
   "execution_count": null,
   "metadata": {},
   "outputs": [],
   "source": [
    "# 불필요한 컬럼/행 삭제\n",
    "#  inplace=True : 원본을 변경, None을 반환\n",
    "#  inplace=False : 원본을 변경되지 않고 변경된 결과 값을 반환\n",
    "# 컬럼 삭제\n",
    "m.drop(columns=['dept'],inplace=True)\n",
    "m"
   ]
  },
  {
   "cell_type": "code",
   "execution_count": null,
   "metadata": {},
   "outputs": [],
   "source": [
    "# 행을 삭제\n",
    "# m.drop(index=[1,3],inplace=True) # 1,3번 행을 삭제, 원본이 변경\n",
    "# m"
   ]
  },
  {
   "cell_type": "code",
   "execution_count": null,
   "metadata": {},
   "outputs": [],
   "source": [
    "# 내부 조인\n",
    "m2 = pd.merge(m,info,how='inner',on='empno')\n",
    "m2.drop(columns=['empno'],inplace=True)\n",
    "m2"
   ]
  },
  {
   "cell_type": "code",
   "execution_count": null,
   "metadata": {},
   "outputs": [],
   "source": [
    "m2.to_csv('emplyee.csv')"
   ]
  }
 ],
 "metadata": {
  "kernelspec": {
   "display_name": "Python 3",
   "language": "python",
   "name": "python3"
  },
  "language_info": {
   "codemirror_mode": {
    "name": "ipython",
    "version": 3
   },
   "file_extension": ".py",
   "mimetype": "text/x-python",
   "name": "python",
   "nbconvert_exporter": "python",
   "pygments_lexer": "ipython3",
   "version": "3.7.6"
  }
 },
 "nbformat": 4,
 "nbformat_minor": 4
}
