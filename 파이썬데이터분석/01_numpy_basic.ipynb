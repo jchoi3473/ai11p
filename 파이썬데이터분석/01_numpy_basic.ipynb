{
 "cells": [
  {
   "cell_type": "markdown",
   "metadata": {},
   "source": [
    "### 넘파이(Numpy) : 배열(ndarray, n dimension array)\n",
    "#### 리스트(list): Linked List 구조(불연속), 동작 속도가 느리다, comma로 요소 구별, 서로 다른 자료형 사용가능\n",
    "#### 배열(ndarray) : 연속된 메모리 구조, 동작 속도가 빠르다, comma를 사용하지 않고 공백으로 요소를 구별, 오직 한 가지 타입만 갖을 수 있다"
   ]
  },
  {
   "cell_type": "code",
   "execution_count": 1,
   "metadata": {},
   "outputs": [
    {
     "name": "stdout",
     "output_type": "stream",
     "text": [
      "[0, 1, 2, 3, 4, 5, 'hello'] <class 'list'>\n",
      "[0 1 2 3 4 5] <class 'numpy.ndarray'>\n",
      "int32\n"
     ]
    },
    {
     "data": {
      "text/plain": [
       "array([0, 1, 2, 3, 4, 5])"
      ]
     },
     "execution_count": 1,
     "metadata": {},
     "output_type": "execute_result"
    }
   ],
   "source": [
    "import numpy as np\n",
    "# pip install numpy\n",
    "\n",
    "# list\n",
    "list1 = [0,1,2,3,4,5,'hello']\n",
    "print(list1,type(list1))\n",
    "\n",
    "# ndarray\n",
    "a = np.array([0,1,2,3,4,5])\n",
    "print(a,type(a))            # <class 'numpy.ndarray'>\n",
    "print(a.dtype)              # 요소의 자료형 int32(windows) , int64(Mac/Linux)\n",
    "a     # Shift + Tab : 변수위에 커서를 놓고 함수(메서드)의 프로토 타입을 볼수 있다"
   ]
  },
  {
   "cell_type": "code",
   "execution_count": 2,
   "metadata": {},
   "outputs": [
    {
     "data": {
      "text/plain": [
       "dict_keys(['?', 0, 'byte', 'b', 1, 'ubyte', 'B', 2, 'short', 'h', 3, 'ushort', 'H', 4, 'i', 5, 'uint', 'I', 6, 'intp', 'p', 9, 'uintp', 'P', 10, 'long', 'l', 7, 'L', 8, 'longlong', 'q', 'ulonglong', 'Q', 'half', 'e', 23, 'f', 11, 'double', 'd', 12, 'longdouble', 'g', 13, 'cfloat', 'F', 14, 'cdouble', 'D', 15, 'clongdouble', 'G', 16, 'O', 17, 'S', 18, 'unicode', 'U', 19, 'void', 'V', 20, 'M', 21, 'm', 22, 'bool8', 'Bool', 'b1', 'int64', 'Int64', 'i8', 'uint64', 'Uint64', 'u8', 'float16', 'Float16', 'f2', 'float32', 'Float32', 'f4', 'float64', 'Float64', 'f8', 'complex64', 'Complex32', 'c8', 'complex128', 'Complex64', 'c16', 'object0', 'Object0', 'bytes0', 'Bytes0', 'str0', 'Str0', 'void0', 'Void0', 'datetime64', 'Datetime64', 'M8', 'timedelta64', 'Timedelta64', 'm8', 'int32', 'Int32', 'i4', 'uint32', 'UInt32', 'u4', 'UInt64', 'int16', 'Int16', 'i2', 'uint16', 'UInt16', 'u2', 'int8', 'Int8', 'i1', 'uint8', 'UInt8', 'u1', 'complex_', 'int0', 'uint0', 'single', 'csingle', 'singlecomplex', 'float_', 'intc', 'uintc', 'int_', 'longfloat', 'clongfloat', 'longcomplex', 'bool_', 'bytes_', 'string_', 'unicode_', 'object_', 'str_', 'int', 'float', 'complex', 'bool', 'object', 'str', 'bytes', 'a'])"
      ]
     },
     "execution_count": 2,
     "metadata": {},
     "output_type": "execute_result"
    }
   ],
   "source": [
    "# numpy 의 dtype 객체의 종류 : 대소문자 모두 사용 가능\n",
    "np.sctypeDict.keys()"
   ]
  },
  {
   "cell_type": "code",
   "execution_count": 3,
   "metadata": {},
   "outputs": [
    {
     "name": "stdout",
     "output_type": "stream",
     "text": [
      "[0. 1. 2. 3. 4. 5.] float64\n"
     ]
    }
   ],
   "source": [
    "# int와 float --> float\n",
    "a = np.array([0,1,2.,3,4,5])\n",
    "print(a,a.dtype) # 요소의 자료형: float64"
   ]
  },
  {
   "cell_type": "code",
   "execution_count": 4,
   "metadata": {},
   "outputs": [
    {
     "name": "stdout",
     "output_type": "stream",
     "text": [
      "['0' '1' '2.0' '3' '4' '5' 'Hello'] <U32\n"
     ]
    }
   ],
   "source": [
    "# int와 float와 str --> Unicode string\n",
    "a = np.array([0,1,2.,3,4,5,'Hello'])\n",
    "print(a,a.dtype) # <U32    , < : 리틀엔디언 , U:유니코드 , 32: 최대 문자 32byte\n",
    "\n",
    "# 유니코드 인코딩 방식\n",
    "# (1) EUC-KR,CP949(MS949) : 완성형, 한글 2 바이트, 영문은 1 바이트, Windows\n",
    "# (2) UTF-8 : 조합형, 한글 3 바이트, 영문은 1 바이트, Linux/Mac"
   ]
  },
  {
   "cell_type": "code",
   "execution_count": 5,
   "metadata": {},
   "outputs": [
    {
     "name": "stdout",
     "output_type": "stream",
     "text": [
      "['1.234' '3.123' '4.4356' '5' '7'] <U6\n",
      "[1.234  3.123  4.4356 5.     7.    ] float32\n",
      "[1 3 4 5 7] int32\n"
     ]
    }
   ],
   "source": [
    "# 배열의 데이터 타입 변환 : astype()\n",
    "a1 = np.array(['1.234','3.123','4.4356','5','7'])\n",
    "print(a1,a1.dtype)  # 요소의 자료형 : <U6\n",
    "\n",
    "a2 = a1.astype('float32')\n",
    "print(a2,a2.dtype)  # 요소의 자료형: float32\n",
    "\n",
    "a3 = a2.astype('int32')\n",
    "print(a3,a3.dtype)  # float32\n",
    "\n",
    "# a3 = a1.astype('int32')  # ValueError"
   ]
  },
  {
   "cell_type": "markdown",
   "metadata": {},
   "source": [
    "### 차원(Dimension,Rank) 과 Shape\n",
    "#### * 차원(Dimension,Rank)  : 1,2,3차원,n차원, 첫 데이터까지의 대괄호의 갯수\n",
    "#### * Shape : 차원의 요소의 수, 튜플 형식\n",
    "####  1 차원 Shape : (x,)\n",
    "####  2 차원 Shape : (x,y), 행렬(matrix)\n",
    "####  3 차원 Shape : (x,y,z) , (면,행,열) \n",
    "... \n",
    "####  n 차원 Shape : (x,y,z,....)"
   ]
  },
  {
   "cell_type": "code",
   "execution_count": 6,
   "metadata": {},
   "outputs": [
    {
     "name": "stdout",
     "output_type": "stream",
     "text": [
      "[ 0  1  2  3  4  5  6  7  8  9 10 11] <class 'numpy.ndarray'> 1 (12,)\n",
      "<class 'tuple'>\n",
      "12\n",
      "[2 3 4 5 6 7 8 9] (8,)\n",
      "[ 0  2  4  6  8 10 12 14] (8,)\n"
     ]
    }
   ],
   "source": [
    "# 1차원 배열의 shape\n",
    "# arange(start,end+1,step)\n",
    "a = np.arange(12)\n",
    "print(a,type(a),a.ndim,a.shape)  # 1차원  (12,)\n",
    "t = a.shape\n",
    "print(type(t))\n",
    "print(a.shape[0])  # 12\n",
    "\n",
    "a2 = np.arange(2,10)\n",
    "print(a2,a2.shape) # (8,)\n",
    "\n",
    "a3 = np.arange(0,16,2)\n",
    "print(a3,a3.shape) # (8,)"
   ]
  },
  {
   "cell_type": "code",
   "execution_count": 7,
   "metadata": {},
   "outputs": [
    {
     "name": "stdout",
     "output_type": "stream",
     "text": [
      "[[0 1 2]\n",
      " [0 1 2]] (2, 3)\n",
      "[[0 1]\n",
      " [3 4]\n",
      " [6 7]] (3, 2)\n",
      "3 2\n"
     ]
    }
   ],
   "source": [
    "# 2차원 배열의 Shape : 행(row,가로,수직,axis=0)과 열(column,세로,수평,axis=1) => 필수암기 \n",
    "# m = np.array([np.arange(3),np.arange(3)])\n",
    "m = np.array([[0,1,2],\n",
    "              [0,1,2]])\n",
    "print(m,m.shape)   # (2,3)\n",
    "\n",
    "m = np.array([[0,1],\n",
    "              [3,4],\n",
    "              [6,7]])\n",
    "print(m,m.shape)   # (3,2)\n",
    "print(m.shape[0],m.shape[1])"
   ]
  },
  {
   "cell_type": "code",
   "execution_count": 8,
   "metadata": {},
   "outputs": [
    {
     "name": "stdout",
     "output_type": "stream",
     "text": [
      "[[[0 1 2]\n",
      "  [3 4 5]]\n",
      "\n",
      " [[0 1 2]\n",
      "  [3 4 5]]] (2, 2, 3)\n",
      "[[[0 1]\n",
      "  [2 3]]\n",
      "\n",
      " [[4 5]\n",
      "  [0 1]]\n",
      "\n",
      " [[2 3]\n",
      "  [4 5]]] (3, 2, 2)\n",
      "[[[0 1 2]]\n",
      "\n",
      " [[3 4 5]]\n",
      "\n",
      " [[0 1 2]]\n",
      "\n",
      " [[3 4 5]]] (4, 1, 3)\n"
     ]
    }
   ],
   "source": [
    "# 3 차원 배열의 Shape: (면,행,열)\n",
    "m = np.array([[[0,1,2],\n",
    "               [3,4,5]],\n",
    "              [[0,1,2],\n",
    "               [3,4,5]]])\n",
    "print(m,m.shape)   # (2,2,3)\n",
    "\n",
    "m = np.array([[[0, 1],\n",
    "               [2, 3]],\n",
    "              [[4, 5],\n",
    "               [0, 1]],\n",
    "              [[2, 3],\n",
    "               [4, 5]]])\n",
    "print(m,m.shape)   # (3,2,2)\n",
    "\n",
    "m = np.array([[[0, 1, 2]],\n",
    "              [[3, 4, 5]],\n",
    "              [[0, 1, 2]],\n",
    "              [[3, 4, 5]]])\n",
    "print(m,m.shape)   # (4,1,3)"
   ]
  },
  {
   "cell_type": "markdown",
   "metadata": {},
   "source": [
    "### 배열의 shape 바꾸기 : reshape() 함수"
   ]
  },
  {
   "cell_type": "code",
   "execution_count": 9,
   "metadata": {},
   "outputs": [
    {
     "name": "stdout",
     "output_type": "stream",
     "text": [
      "[ 0  1  2  3  4  5  6  7  8  9 10 11] (12,)\n",
      "[[ 0]\n",
      " [ 1]\n",
      " [ 2]\n",
      " [ 3]\n",
      " [ 4]\n",
      " [ 5]\n",
      " [ 6]\n",
      " [ 7]\n",
      " [ 8]\n",
      " [ 9]\n",
      " [10]\n",
      " [11]] (12, 1)\n",
      "[[ 0  1  2  3]\n",
      " [ 4  5  6  7]\n",
      " [ 8  9 10 11]] (3, 4)\n",
      "[[ 0  1  2  3  4  5]\n",
      " [ 6  7  8  9 10 11]] (2, 6)\n",
      "[[[ 0  1  2]\n",
      "  [ 3  4  5]]\n",
      "\n",
      " [[ 6  7  8]\n",
      "  [ 9 10 11]]] (2, 2, 3)\n",
      "[[[[ 0  1]]\n",
      "\n",
      "  [[ 2  3]]]\n",
      "\n",
      "\n",
      " [[[ 4  5]]\n",
      "\n",
      "  [[ 6  7]]]\n",
      "\n",
      "\n",
      " [[[ 8  9]]\n",
      "\n",
      "  [[10 11]]]] (3, 2, 1, 2)\n",
      "[[ 0  1  2  3  4  5]\n",
      " [ 6  7  8  9 10 11]\n",
      " [12 13 14 15 16 17]] (3, 6)\n"
     ]
    }
   ],
   "source": [
    "m1 = np.arange(12)\n",
    "print(m1,m1.shape) # (12,)\n",
    "\n",
    "m2 = m1.reshape(12,1)\n",
    "print(m2,m2.shape) # (12, 1)\n",
    "\n",
    "m2 = m1.reshape(3,4)\n",
    "print(m2,m2.shape) # (3,4)\n",
    "\n",
    "m2 = m1.reshape(2,6)\n",
    "print(m2,m2.shape) # (2,6)\n",
    "\n",
    "m3 = m1.reshape(2,2,3)\n",
    "print(m3,m3.shape) # (2,2,3)\n",
    "\n",
    "m4 = m1.reshape(3,2,1,2)\n",
    "print(m4,m4.shape) # (3,2,1,2)\n",
    "\n",
    "m = np.arange(18).reshape(3,6)\n",
    "print(m,m.shape)"
   ]
  },
  {
   "cell_type": "code",
   "execution_count": 10,
   "metadata": {},
   "outputs": [
    {
     "name": "stdout",
     "output_type": "stream",
     "text": [
      "[ 0  1  2  3  4  5  6  7  8  9 10 11] (12,)\n",
      "[[ 0  1  2  3  4  5]\n",
      " [ 6  7  8  9 10 11]] (2, 6)\n",
      "[[ 0  1  2]\n",
      " [ 3  4  5]\n",
      " [ 6  7  8]\n",
      " [ 9 10 11]] (4, 3)\n",
      "[[ 0]\n",
      " [ 1]\n",
      " [ 2]\n",
      " [ 3]\n",
      " [ 4]\n",
      " [ 5]\n",
      " [ 6]\n",
      " [ 7]\n",
      " [ 8]\n",
      " [ 9]\n",
      " [10]\n",
      " [11]] (12, 1)\n",
      "[[[ 0  1]\n",
      "  [ 2  3]]\n",
      "\n",
      " [[ 4  5]\n",
      "  [ 6  7]]\n",
      "\n",
      " [[ 8  9]\n",
      "  [10 11]]] (3, 2, 2)\n"
     ]
    }
   ],
   "source": [
    "# -1을 사용한 reshape\n",
    "m1 = np.arange(12)\n",
    "print(m1,m1.shape)    #  (12,)\n",
    "\n",
    "m2 = m1.reshape(-1,6) # 행의 요소수를 자동으로 계산, 2\n",
    "print(m2,m2.shape)    # (2,6)\n",
    "\n",
    "m2 = m1.reshape(4,-1) # 열의 요소수를 자동으로 계산, 3\n",
    "print(m2,m2.shape)    # (4,3)\n",
    "\n",
    "# m2 = m1.reshape(-1,-1) # ValueError\n",
    "\n",
    "m2 = m1.reshape(-1,1) # 행의 요소수를 자동으로 계산, 12\n",
    "print(m2,m2.shape)    # (12, 1)\n",
    "\n",
    "m3 = m1.reshape(-1,2,2) # 면의 요소수를 자동으로 계산, 3\n",
    "print(m3,m3.shape)    # (3,2,2)"
   ]
  },
  {
   "cell_type": "markdown",
   "metadata": {},
   "source": [
    "### 배열의 인덱싱과 슬라이싱"
   ]
  },
  {
   "cell_type": "code",
   "execution_count": 11,
   "metadata": {},
   "outputs": [
    {
     "name": "stdout",
     "output_type": "stream",
     "text": [
      "[ 0  1  2  3  4  5  6  7  8  9 10 11] (12,)\n",
      "0 1 2 11 10\n",
      "[2 3 4 5 6 7] [ 0  1  2  3  4  5  6  7  8  9 10 11] [ 0  1  2  3  4  5  6  7  8  9 10]\n",
      "[ 0  2  4  6  8 10] [11 10  9  8  7  6  5  4  3  2  1  0]\n",
      "[10  1  2  3  4  5  6  7  8  9 10 11]\n"
     ]
    }
   ],
   "source": [
    "# 1차원 배열의 인덱싱과 슬라이싱 : list 와 동일한 방법\n",
    "d = np.arange(12)\n",
    "print(d,d.shape)\n",
    "\n",
    "# indexing\n",
    "print(d[0],d[1],d[2],d[-1],d[-2])\n",
    "\n",
    "# slicing\n",
    "print(d[2:8],d[:],d[:-1])\n",
    "print(d[::2],d[::-1])\n",
    "\n",
    "d[0] = 10   # list 처럼 요소 변경이 가능\n",
    "print(d)"
   ]
  },
  {
   "cell_type": "code",
   "execution_count": 12,
   "metadata": {},
   "outputs": [
    {
     "name": "stdout",
     "output_type": "stream",
     "text": [
      "[[ 0  1  2  3]\n",
      " [ 4  5  6  7]\n",
      " [ 8  9 10 11]] (3, 4)\n",
      "0\n",
      "0\n",
      "9\n",
      "[0 1 2 3]\n",
      "[0 1 2 3]\n",
      "[[ 0  1  2]\n",
      " [ 4  5  6]\n",
      " [ 8  9 10]]\n",
      "[[ 0  2]\n",
      " [ 8 10]]\n",
      "[[20 20 20 20]\n",
      " [ 4  5  6  7]\n",
      " [ 8  9 10 11]]\n",
      "[[30 30]\n",
      " [30 30]]\n",
      "[[30 20 20 30]\n",
      " [ 4  5  6  7]\n",
      " [30  9 10 30]]\n",
      "[[-1 -1 -1 -1]\n",
      " [-1 -1 -1 -1]\n",
      " [-1 -1 -1 -1]]\n"
     ]
    }
   ],
   "source": [
    "# 2차원 배열의 인덱싱과 슬라이싱 \n",
    "# data[행,열]\n",
    "d = np.arange(12).reshape(3,4)\n",
    "print(d,d.shape)  # (3, 4)\n",
    "\n",
    "# indexing\n",
    "print(d[0][0])  # 0\n",
    "print(d[0,0])   # 0\n",
    "print(d[2,1])   # 9\n",
    "\n",
    "# slicing\n",
    "print(d[0])    # [0 1 2 3]\n",
    "print(d[0,:])  # [0 1 2 3]\n",
    "print(d[:,:-1])  # 마지막 열을 제외 ,(3,3)\n",
    "print(d[::2,::2]) # (2,2)\n",
    "\n",
    "d[0] = 20        # 0번 행의 모든 요소를 20으로 변경\n",
    "print(d)\n",
    "\n",
    "d[::2,::3] = 30  # 슬라이싱 된 요소 전체를 한번에 변경할 수 있다\n",
    "print(d[::2,::3])\n",
    "print(d)\n",
    "\n",
    "d[:,:] = -1      # 전체 요소를 한번에 변경할 수 있다\n",
    "print(d)"
   ]
  },
  {
   "cell_type": "code",
   "execution_count": 13,
   "metadata": {},
   "outputs": [
    {
     "name": "stdout",
     "output_type": "stream",
     "text": [
      "[[[ 0  1  2]\n",
      "  [ 3  4  5]]\n",
      "\n",
      " [[ 6  7  8]\n",
      "  [ 9 10 11]]] (2, 2, 3)\n",
      "0\n",
      "0\n",
      "5\n",
      "------------------------------\n",
      "[[[0 1]]\n",
      "\n",
      " [[6 7]]]\n",
      "------------------------------\n",
      "[[[ 4  5]]\n",
      "\n",
      " [[10 11]]]\n",
      "------------------------------\n",
      "[[ 2  5]\n",
      " [ 8 11]]\n",
      "------------------------------\n",
      "[ 5 11]\n",
      "11\n"
     ]
    }
   ],
   "source": [
    "# 3차원 배열의 인덱싱과 슬라이싱\n",
    "# data[면,행,열]\n",
    "d = np.arange(12).reshape(2,2,3)\n",
    "print(d,d.shape)\n",
    "\n",
    "# indexing\n",
    "print(d[0][0][0])  # old style\n",
    "print(d[0,0,0])    # 0\n",
    "print(d[0,1,2])    # 5 \n",
    "\n",
    "# slicing\n",
    "print('-'*30)\n",
    "print(d[:,:-1,:-1])  # (2, 1, 2)\n",
    "print('-'*30)\n",
    "print(d[:,1:,1:])    # (2, 1, 2)  , 3-D\n",
    "print('-'*30)\n",
    "print(d[:,:,-1])     # (2, 2), matrix\n",
    "print('-'*30)\n",
    "print(d[:,-1,-1])    # (2,), vecotr\n",
    "\n",
    "print(d[-1,-1,-1])    # 11, scalar"
   ]
  },
  {
   "cell_type": "code",
   "execution_count": 14,
   "metadata": {},
   "outputs": [
    {
     "name": "stdout",
     "output_type": "stream",
     "text": [
      "[ 0  1  2  3  4  5  6  7  8  9 10 11] (12,)\n",
      "0\n",
      "[0]\n"
     ]
    }
   ],
   "source": [
    "# 인덱싱 결과는 scalar\n",
    "# 슬라이싱 결과는 ndarray\n",
    "a = np.arange(12)\n",
    "print(a,a.shape)\n",
    "\n",
    "print(a[0])   # 0 , scalar\n",
    "print(a[0:1]) # [0] , 배열(ndarray)"
   ]
  },
  {
   "cell_type": "markdown",
   "metadata": {},
   "source": [
    "### 불린 인덱싱 : 조건식을 사용한 인덱싱, 조건 검색 필터를 사용한 추출(매우 중요)"
   ]
  },
  {
   "cell_type": "code",
   "execution_count": 15,
   "metadata": {},
   "outputs": [
    {
     "name": "stdout",
     "output_type": "stream",
     "text": [
      "[1 2 3 4 5 6]\n",
      "[False False  True  True  True  True]\n",
      "[3 4 5 6]\n",
      "[ True False  True False  True  True]\n",
      "[1 3 5 6]\n",
      "[1 2 4 5 6]\n",
      "[3 4 5]\n",
      "[2 4 6]\n",
      "[1 2 3]\n"
     ]
    }
   ],
   "source": [
    "a = np.array([1,2,3,4,5,6])\n",
    "print(a)\n",
    "\n",
    "print(a > 2)\n",
    "print(a[a > 2])\n",
    "# print(a[[False, False, True, True, True, True]])\n",
    "\n",
    "boolean_index = np.array([True,False,True,False,True,True]) # 리스트를 사용해도 가능\n",
    "print(boolean_index)\n",
    "print(a[boolean_index])\n",
    "\n",
    "print(a[a!=3])\n",
    "print(a[(a > 2) & (a < 6)])\n",
    "print(a[a % 2 == 0])\n",
    "print(a[a < a.mean()])  # 배열 a에서 평균보다 작은 값만 추출\n",
    "\n",
    "# print(a[True])\n",
    "# print(a[False])"
   ]
  },
  {
   "cell_type": "markdown",
   "metadata": {},
   "source": [
    "### fancy 인덱싱 : 리스트나 배열로 임의의 집합을 지정하여 인덱싱,(멋대로 내키는대로 인덱싱)"
   ]
  },
  {
   "cell_type": "code",
   "execution_count": 16,
   "metadata": {},
   "outputs": [
    {
     "name": "stdout",
     "output_type": "stream",
     "text": [
      "[1 2 3 4 5 6] (6,)\n",
      "[2 4 6 3]\n",
      "[1 6 4 5]\n"
     ]
    }
   ],
   "source": [
    "# 1 차원 배열의 fancy 인덱싱\n",
    "a = np.arange(1,7)\n",
    "print(a,a.shape)\n",
    "\n",
    "print(a[[1,3,5,2]])\n",
    "print(a[[0,-1,-3,-2]])"
   ]
  },
  {
   "cell_type": "code",
   "execution_count": 17,
   "metadata": {},
   "outputs": [
    {
     "name": "stdout",
     "output_type": "stream",
     "text": [
      "[[10 20 30]\n",
      " [40 50 60]\n",
      " [70 80 90]] (3, 3)\n",
      "[10 80]\n",
      "[[10 20]\n",
      " [70 80]]\n",
      "10 80\n"
     ]
    }
   ],
   "source": [
    "# 2 차원 배열의 fancy 인덱싱\n",
    "# data[[행번호 인덱스],[열번호 인덱스]] , 행의 갯수와 열의 갯수가 같아야한다\n",
    "a = np.arange(10,100,10).reshape(3,3)\n",
    "print(a,a.shape)\n",
    "\n",
    "print(a[[0,2],[0,1]])  # 행과 열 인덱스가 한개씩 서로 match,\n",
    "                       # a[0,0],a[2,1]을 배열로 반환\n",
    "print(a[[0,2],:2])  \n",
    "print(a[0,0],a[2,1])"
   ]
  },
  {
   "cell_type": "code",
   "execution_count": 18,
   "metadata": {},
   "outputs": [
    {
     "name": "stdout",
     "output_type": "stream",
     "text": [
      "[[ 0  1  2  3]\n",
      " [ 4  5  6  7]\n",
      " [ 8  9 10 11]] (3, 4)\n",
      "[ 0  1  2  3  4  5  6  7  8  9 10 11] (12,)\n",
      "[[ 8  9 10 11]\n",
      " [ 4  5  6  7]\n",
      " [ 0  1  2  3]]\n",
      "[[ 3  2  1  0]\n",
      " [ 7  6  5  4]\n",
      " [11 10  9  8]]\n",
      "[[11 10  9  8]\n",
      " [ 7  6  5  4]\n",
      " [ 3  2  1  0]]\n",
      "[[ 0  4  8]\n",
      " [ 1  5  9]\n",
      " [ 2  6 10]\n",
      " [ 3  7 11]] (4, 3)\n",
      "[[ 0  4  8]\n",
      " [ 1  5  9]\n",
      " [ 2  6 10]\n",
      " [ 3  7 11]]\n",
      "[[0 0 0 0]\n",
      " [0 0 0 0]\n",
      " [0 0 0 0]]\n"
     ]
    }
   ],
   "source": [
    "# 배열의 형상 다루기 : reshape(), flatten()(편평화),transpose()(전치)\n",
    "\n",
    "# flatten() : 다차원 배열을 1 차원으로 만든다\n",
    "a = np.arange(12).reshape(3,4)\n",
    "print(a,a.shape)\n",
    "\n",
    "f = a.flatten()    # (3,4)  ---> (12,)\n",
    "print(f,f.shape)\n",
    "\n",
    "# 데이터 순서를 거꾸로 변경\n",
    "print(a[::-1])        # 행의 순서를 거꾸로 변경\n",
    "print(a[:,::-1])      # 열의 순서를 거꾸로 변경\n",
    "print(a[::-1,::-1])   # 행과 열의 순서를 거꾸로 변경\n",
    "\n",
    "# transpose() : 전치 행렬 , 행과 열을 서로 맞바꾸는 함수\n",
    "t = a.transpose()\n",
    "print(t,t.shape)   # (3,4)  --> (4,3)\n",
    "\n",
    "print(a.T)  # transpose()함수와 동일한 결과\n",
    "\n",
    "# 임시로 1차원으로 변경하여 데우터를 채우고 다시 원래의 shape을 갖는다\n",
    "# 배열의 요소 전체를 한번에 초기화 할때 사용\n",
    "a.flat = 0\n",
    "print(a)"
   ]
  },
  {
   "cell_type": "markdown",
   "metadata": {},
   "source": [
    "### numpy 의 속성(Attribute) : 멤버변수,메서드\n",
    "#### dtype, shape, ndim, flat, T, size, nbytes"
   ]
  },
  {
   "cell_type": "code",
   "execution_count": 19,
   "metadata": {},
   "outputs": [
    {
     "name": "stdout",
     "output_type": "stream",
     "text": [
      "[[ 0  1  2  3]\n",
      " [ 4  5  6  7]\n",
      " [ 8  9 10 11]] (3, 4)\n",
      "int32\n",
      "2 2\n",
      "[[ 0  4  8]\n",
      " [ 1  5  9]\n",
      " [ 2  6 10]\n",
      " [ 3  7 11]]\n",
      "12\n",
      "48\n",
      "[[1 1 1 1]\n",
      " [1 1 1 1]\n",
      " [1 1 1 1]]\n"
     ]
    }
   ],
   "source": [
    "d = np.arange(12).reshape(3,4)\n",
    "print(d,d.shape)   # (3,4)\n",
    "print(d.dtype)     # int32 or int64\n",
    "print(d.ndim,len(d.shape))      # 2\n",
    "print(d.T)      # transpose()함수와 동일한 결과, 전치행렬\n",
    "print(d.size)   # 12, 요소의 갯수\n",
    "print(d.nbytes) # 32bit(4 byte) * 12 --> 48 bytes\n",
    "d.flat = 1\n",
    "print(d)"
   ]
  },
  {
   "cell_type": "code",
   "execution_count": 20,
   "metadata": {},
   "outputs": [
    {
     "name": "stdout",
     "output_type": "stream",
     "text": [
      "[[ 0  1  2  3]\n",
      " [ 4  5  6  7]\n",
      " [ 8  9 10 11]]\n",
      "11\n",
      "11\n",
      "0\n",
      "0\n",
      "66\n",
      "5.5\n",
      "3.452052529534663\n",
      "11.916666666666666\n",
      "5.5\n",
      "25%: 2.75\n",
      "50%: 5.5\n",
      "75%: 8.25\n"
     ]
    }
   ],
   "source": [
    "# numpy 통계 함수들\n",
    "a = np.arange(12).reshape(3,4)\n",
    "print(a)\n",
    "\n",
    "print(a.max())  # 최대값\n",
    "print(np.max(a))\n",
    "\n",
    "print(a.min())  # 최소값\n",
    "print(np.min(a))\n",
    "\n",
    "print(a.sum())  # 합\n",
    "print(a.mean()) # 평균\n",
    "\n",
    "print(a.std())  # 표준편차\n",
    "print(a.var())  # 분산\n",
    "print(np.median(a)) # 중위수\n",
    "\n",
    "# 사분위수\n",
    "print('25%:',np.percentile(a,25)) # 1사분위수(Q1)\n",
    "print('50%:',np.percentile(a,50)) # 2사분위수(Q2), median()과 같은 값\n",
    "print('75%:',np.percentile(a,75)) # 3사분위수(Q3)"
   ]
  },
  {
   "cell_type": "code",
   "execution_count": 21,
   "metadata": {},
   "outputs": [
    {
     "name": "stdout",
     "output_type": "stream",
     "text": [
      "[[ 0  1  2  3]\n",
      " [ 4  5  6  7]\n",
      " [ 8  9 10 11]]\n",
      "66\n",
      "[12 15 18 21]\n",
      "[ 6 22 38]\n",
      "66\n",
      "[ 6 22 38]\n"
     ]
    }
   ],
   "source": [
    "# axis (축) 사용법 , axis=0:행, axis=1:열\n",
    "a = np.arange(12).reshape(3,4)\n",
    "print(a)\n",
    "print(a.sum())  # 배열의 전체의 합\n",
    "\n",
    "print(a.sum(axis=0))  # 행,수직방향으로 합을 구함\n",
    "print(a.sum(axis=1))  # 열,수평방향으로 합을 구함\n",
    "\n",
    "print(a.sum(axis=None))  # a.sum()와 동일한 결과\n",
    "print(a.sum(axis=-1))    # a.sum(axis=1)와 동일한 결과, -1은 마지막 축을 나타냄"
   ]
  },
  {
   "cell_type": "code",
   "execution_count": 22,
   "metadata": {},
   "outputs": [
    {
     "name": "stdout",
     "output_type": "stream",
     "text": [
      "[9 2 8 3 1 4 5 6] (8,)\n",
      "[1 2 3 4 5 6 8 9] [9 2 8 3 1 4 5 6]\n",
      "[1 2 3 4 5 6 8 9]\n",
      "[9 8 6 5 4 3 2 1]\n"
     ]
    }
   ],
   "source": [
    "# sort() 함수\n",
    "a = np.array([9,2,8,3,1,4,5,6])\n",
    "print(a,a.shape)\n",
    "\n",
    "r = np.sort(a)   # 오름차순, 원본 변경 없음, sort된 결과를 반환\n",
    "print(r,a)\n",
    "\n",
    "a.sort()         # 오름차순, 원본 변경\n",
    "print(a)\n",
    "\n",
    "r = np.sort(a)[::-1] # 내림 차순: 오름 차순 정렬 후 순서를 거꾸로 변경\n",
    "print(r)"
   ]
  },
  {
   "cell_type": "code",
   "execution_count": 23,
   "metadata": {},
   "outputs": [
    {
     "name": "stdout",
     "output_type": "stream",
     "text": [
      "[9 2 8 3 1 4 5 6] (8,)\n",
      "[4 1 3 5 6 7 2 0]\n"
     ]
    }
   ],
   "source": [
    "# argsort() 함수 : 정렬한 후에 해당 값의 인덱스(원본기준)를 반환\n",
    "a = np.array([9,2,8,3,1,4,5,6])\n",
    "print(a,a.shape)\n",
    "\n",
    "sort_index = np.argsort(a)\n",
    "print(sort_index)"
   ]
  },
  {
   "cell_type": "code",
   "execution_count": 24,
   "metadata": {},
   "outputs": [],
   "source": [
    "# View : 원본 객체와 메모리를 공유하는 사본, 원본과 id가 다름\n",
    "# Copy : 원본 객체와 다른 별도의 메모리를 사용하는 사본, 원본과 id가 다름"
   ]
  },
  {
   "cell_type": "code",
   "execution_count": 25,
   "metadata": {},
   "outputs": [
    {
     "name": "stdout",
     "output_type": "stream",
     "text": [
      "[100 200   8   3   1   4   5   6] [100 200   8   3   1   4   5   6]\n",
      "2265909894480 2265910110288\n",
      "True\n"
     ]
    }
   ],
   "source": [
    "# View\n",
    "a = np.array([9,2,8,3,1,4,5,6])\n",
    "# v = a\n",
    "v = a.view()     # v = a 와 동일한 결과\n",
    "v[0] = 100\n",
    "a[1] = 200\n",
    "print(v,a)\n",
    "print(id(v),id(a))\n",
    "print(np.shares_memory(v,a))  # 메모리를 공유하므로 True가 반환"
   ]
  },
  {
   "cell_type": "code",
   "execution_count": 26,
   "metadata": {},
   "outputs": [
    {
     "name": "stdout",
     "output_type": "stream",
     "text": [
      "[100 600   8   3   1   4   5   6] [500 200   8   3   1   4   5   6]\n",
      "2265910110288 2265910047248\n",
      "False\n"
     ]
    }
   ],
   "source": [
    "# Copy\n",
    "c = a.copy()\n",
    "c[0] = 500\n",
    "a[1] = 600\n",
    "print(a,c)\n",
    "print(id(a),id(c))\n",
    "print(np.shares_memory(c,a))  # 메모리를 공유하지 않으므로 False가 반환"
   ]
  },
  {
   "cell_type": "code",
   "execution_count": 27,
   "metadata": {},
   "outputs": [
    {
     "name": "stdout",
     "output_type": "stream",
     "text": [
      "[0, 1, 2, 3, 4, 5] [0, 1, 2]\n",
      "[0, 1, 2, 3, 4, 5]\n",
      "[100, 1, 2]\n",
      "False\n"
     ]
    }
   ],
   "source": [
    "# 리스트를 슬라이싱한 객체는 원본과 메모리를 공유 하지 않음\n",
    "a = [0,1,2,3,4,5]\n",
    "b = a[:3]\n",
    "print(a,b)\n",
    "b[0] = 100\n",
    "print(a)\n",
    "print(b)\n",
    "print(np.shares_memory(a,b))  # False"
   ]
  },
  {
   "cell_type": "code",
   "execution_count": 28,
   "metadata": {},
   "outputs": [
    {
     "name": "stdout",
     "output_type": "stream",
     "text": [
      "[0 1 2 3 4 5] [0 1 2]\n",
      "[100   1   2   3   4   5]\n",
      "[100   1   2]\n",
      "True\n",
      "2265909952064 2265909948864\n"
     ]
    }
   ],
   "source": [
    "# 배열을 슬라이싱한 객체는 원본과 메모리를 공유\n",
    "a = np.array([0,1,2,3,4,5])\n",
    "b = a[:3]\n",
    "print(a,b)\n",
    "b[0] = 100\n",
    "print(a)\n",
    "print(b)\n",
    "print(np.shares_memory(a,b))  # True\n",
    "print(id(a),id(b))"
   ]
  },
  {
   "cell_type": "code",
   "execution_count": 29,
   "metadata": {},
   "outputs": [
    {
     "name": "stdout",
     "output_type": "stream",
     "text": [
      "<class 'numpy.ndarray'>\n",
      "(768, 1024, 3)\n"
     ]
    },
    {
     "data": {
      "image/png": "[encoded data removed]",
      "text/plain": [
       "<Figure size 432x288 with 1 Axes>"
      ]
     },
     "metadata": {
      "needs_background": "light"
     },
     "output_type": "display_data"
    }
   ],
   "source": [
    "# raccoon(오리너구리 사진) 데이터 \n",
    "import scipy.misc \n",
    "import matplotlib.pyplot as plt  # 시각화 라이브러리\n",
    "\n",
    "face = scipy.misc.face()\n",
    "print(type(face))       # ndarray\n",
    "print(face.shape)       # (768, 1024, 3)  , (y,x,rgb)\n",
    "# RGB :     Red : Green : Blue (8:8:8)\n",
    "#      11111111  00000000 00000000 (2진수)  --> Red\n",
    "# print(face)\n",
    "plt.imshow(face)\n",
    "plt.show()"
   ]
  },
  {
   "cell_type": "code",
   "execution_count": 30,
   "metadata": {},
   "outputs": [
    {
     "data": {
      "image/png": "[encoded data removed]",
      "text/plain": [
       "<Figure size 432x288 with 3 Axes>"
      ]
     },
     "metadata": {
      "needs_background": "light"
     },
     "output_type": "display_data"
    }
   ],
   "source": [
    "face = scipy.misc.face()   # read-only\n",
    "face2 = face.copy()        # 사본, copy , RW(쓰기 가능)\n",
    "\n",
    "f_view = face2.view() # View : 원본 객체와 메모리를 공유하는 사본\n",
    "f_copy = face2.copy() # Copy : 원본 객체와 다른 별도의 메모리를 사용하는 사본\n",
    "\n",
    "face2.flat = 0\n",
    "f_view.flat = 0\n",
    "f_copy.flat = 0\n",
    "\n",
    "plt.subplot(2,2,1)\n",
    "plt.imshow(face2)\n",
    "\n",
    "plt.subplot(2,2,2)\n",
    "plt.imshow(f_view)\n",
    "\n",
    "plt.subplot(2,2,3)\n",
    "plt.imshow(f_copy)\n",
    "\n",
    "plt.show()"
   ]
  },
  {
   "cell_type": "code",
   "execution_count": 31,
   "metadata": {},
   "outputs": [
    {
     "name": "stdout",
     "output_type": "stream",
     "text": [
      "start: 1594876182.7094915\n",
      "end: 1594876185.9444432\n",
      "실행소요시간: 3.2349517345428467\n"
     ]
    }
   ],
   "source": [
    "# 실습 과제 힌트\n",
    "# [1] 파이썬 소스 코드 실행 시간 측정\n",
    "import time\n",
    "start = time.time()  \n",
    "print('start:',start)\n",
    "# -----------------------\n",
    "total = 0\n",
    "for k in range(10000000):\n",
    "    total += k*100\n",
    "# -----------------------\n",
    "end = time.time()    \n",
    "print('end:',end)\n",
    "print('실행소요시간:',end - start)"
   ]
  },
  {
   "cell_type": "code",
   "execution_count": 32,
   "metadata": {},
   "outputs": [
    {
     "name": "stdout",
     "output_type": "stream",
     "text": [
      "0\n",
      "0\n",
      "[[0 0 0 ... 0 0 0]\n",
      " [0 0 0 ... 0 0 0]\n",
      " [0 0 0 ... 0 0 0]\n",
      " ...\n",
      " [0 0 0 ... 0 0 0]\n",
      " [0 0 0 ... 0 0 0]\n",
      " [0 0 0 ... 0 0 0]]\n",
      "[[0 0 0 ... 0 0 0]\n",
      " [0 0 0 ... 0 0 0]\n",
      " [0 0 0 ... 0 0 0]\n",
      " ...\n",
      " [0 0 0 ... 0 0 0]\n",
      " [0 0 0 ... 0 0 0]\n",
      " [0 0 0 ... 0 0 0]]\n",
      "[[0 0 0 ... 0 0 0]\n",
      " [0 0 0 ... 0 0 0]\n",
      " [0 0 0 ... 0 0 0]\n",
      " ...\n",
      " [0 0 0 ... 0 0 0]\n",
      " [0 0 0 ... 0 0 0]\n",
      " [0 0 0 ... 0 0 0]]\n"
     ]
    }
   ],
   "source": [
    "# [2] face 3차원 데이터의 인덱싱\n",
    "# (768, 1024, 3), (y,x,rgb)     \n",
    "print(face2[0][0][0]) # old style\n",
    "print(face2[0,0,0])   # 121\n",
    "\n",
    "print(face2[:,:,0])   # Red 값만 추출\n",
    "print(face2[:,:,1])   # Green 값만 추출\n",
    "print(face2[:,:,2])   # Blue 값만 추출"
   ]
  },
  {
   "cell_type": "code",
   "execution_count": 33,
   "metadata": {},
   "outputs": [
    {
     "name": "stdout",
     "output_type": "stream",
     "text": [
      "[[[ 0  1  2]]\n",
      "\n",
      " [[ 3  4  5]]\n",
      "\n",
      " [[ 6  7  8]]\n",
      "\n",
      " [[ 9 10 11]]]\n",
      "[[[ 0  1  0]]\n",
      "\n",
      " [[ 3 10  0]]\n",
      "\n",
      " [[10 10  0]]\n",
      "\n",
      " [[10 10  0]]]\n",
      "[[ 2]\n",
      " [10]\n",
      " [10]\n",
      " [10]]\n",
      "[[[ 0  1  2]]\n",
      "\n",
      " [[ 3  4 10]]\n",
      "\n",
      " [[ 6  7 10]]\n",
      "\n",
      " [[ 9 10 10]]]\n",
      "[[[ 0  1  2]]\n",
      "\n",
      " [[ 3  4 10]]\n",
      "\n",
      " [[ 6  7 10]]\n",
      "\n",
      " [[ 9 10 10]]]\n"
     ]
    }
   ],
   "source": [
    "# [3] 조건 검색(불린인덱스)\n",
    "data = np.arange(12).reshape(4,1,3)\n",
    "b = data.copy()\n",
    "print(b)\n",
    "# 3번째 열을 모두 0 으로 변경 : (면,행,열)\n",
    "b[:,:,2] = 0\n",
    "\n",
    "# 3보다 큰 값을 모두 10으로 변경\n",
    "b[b > 3] = 10\n",
    "print(b)\n",
    "\n",
    "# 3번째 열중에서 3보다 큰 값을 모두 10으로 변경: 방법 2사용\n",
    "b = data.copy()\n",
    "# 방법 1\n",
    "c = b[:,:,2]\n",
    "c[c > 3] = 10\n",
    "print(c)\n",
    "print(b)\n",
    "\n",
    "# 방법 2\n",
    "b[:,:,2][b[:,:,2]>3] = 10\n",
    "print(b)"
   ]
  },
  {
   "cell_type": "code",
   "execution_count": 34,
   "metadata": {},
   "outputs": [],
   "source": [
    "# 외부 프레임에 그래프 출력\n",
    "# %matplotlib qt\n",
    "\n",
    "# 노트북 내부에 그래프 출력\n",
    "%matplotlib inline"
   ]
  },
  {
   "cell_type": "code",
   "execution_count": 35,
   "metadata": {},
   "outputs": [
    {
     "name": "stdout",
     "output_type": "stream",
     "text": [
      "elapsed time : 0.011968374252319336\n"
     ]
    },
    {
     "data": {
      "image/png": "[encoded data removed]",
      "text/plain": [
       "<Figure size 432x288 with 4 Axes>"
      ]
     },
     "metadata": {
      "needs_background": "light"
     },
     "output_type": "display_data"
    }
   ],
   "source": [
    "# 실습과제 2번\n",
    "face = scipy.misc.face()   # face: read only\n",
    "face01 = face.copy()        # face01: read and write 가능\n",
    "face02 = face.copy()        # face02: read and write 가능\n",
    "face03 = face.copy()        # face03: read and write 가능\n",
    "face04 = face.copy()        # face04: read and write 가능\n",
    "\n",
    "# 2.1  Red 색상을 모두 0 으로 변경하여 출력한다\n",
    "face01[:,:,0] = 0\n",
    "# face01[face[:,:,0] < 100 ] = 0\n",
    "\n",
    "# 2.2  Green 색상을 모두 0 으로 변경하여 출력한다\n",
    "face02[:,:,1] = 0\n",
    "# face02[face[:,:,1] < 100 ] = 0\n",
    "\n",
    "# 2.3  Blue 색상을 모두 0 으로 변경하여 출력한다\n",
    "face03[:,:,2] = 0\n",
    "# face03[face[:,:,2] < 100 ] = 0\n",
    "\n",
    "# 2.4  Red, Green, Blue 색상 중  100보다 작은 경우\n",
    "# 모두 0 으로 변경하여 출력한다\n",
    "#\n",
    "time_start = time.time()\n",
    "face04[face < 100] = 0\n",
    "time_end = time.time()\n",
    "print('elapsed time :',time_end - time_start) # elapsed time : 0.011968135833740234\n",
    "\n",
    "# 중첩된 for문 사용하기\n",
    "# time_start = time.time()\n",
    "# xmax = face.shape[0]\n",
    "# ymax = face.shape[1]\n",
    "# zmax = face.shape[2]\n",
    "# for i in range(xmax):         # 768\n",
    "#     for j in range(ymax):     # 1024\n",
    "#         for k in range(zmax): # 3 \n",
    "#             if face[i][j][k] < 100:\n",
    "#                 face04[i][j][k] = 0\n",
    "                \n",
    "# time_end = time.time()\n",
    "# print('elapsed time :',time_end - time_start) # elapsed time : 11.44638705253601\n",
    "\n",
    "plt.subplot(221)\n",
    "plt.imshow(face01)\n",
    "\n",
    "plt.subplot(222)\n",
    "plt.imshow(face02)\n",
    "\n",
    "plt.subplot(223)\n",
    "plt.imshow(face03)\n",
    "\n",
    "plt.subplot(224)\n",
    "plt.imshow(face04)\n",
    "plt.show()"
   ]
  },
  {
   "cell_type": "markdown",
   "metadata": {},
   "source": [
    "### 배열 합치기\n",
    "#### * 수직(v,행)으로 합치기 : vstack(), row_stack(), concatenate(..., axis=0)\n",
    "#### * 수평(h,열)으로 합치기 : hstack(), column_stack(), concatenate(..., axis=1)"
   ]
  },
  {
   "cell_type": "code",
   "execution_count": 36,
   "metadata": {},
   "outputs": [
    {
     "name": "stdout",
     "output_type": "stream",
     "text": [
      "[[0 1 2]\n",
      " [3 4 5]\n",
      " [6 7 8]]\n",
      "[[ 0  2  4]\n",
      " [ 6  8 10]\n",
      " [12 14 16]]\n",
      "[[ 0  1  2]\n",
      " [ 3  4  5]\n",
      " [ 6  7  8]\n",
      " [ 0  2  4]\n",
      " [ 6  8 10]\n",
      " [12 14 16]] (6, 3)\n",
      "[[ 0  1  2]\n",
      " [ 3  4  5]\n",
      " [ 6  7  8]\n",
      " [ 0  2  4]\n",
      " [ 6  8 10]\n",
      " [12 14 16]] (6, 3)\n",
      "[[ 0  1  2]\n",
      " [ 3  4  5]\n",
      " [ 6  7  8]\n",
      " [ 0  2  4]\n",
      " [ 6  8 10]\n",
      " [12 14 16]] (6, 3)\n"
     ]
    }
   ],
   "source": [
    "# 수직으로 합치기\n",
    "a = np.arange(9).reshape(3,3)\n",
    "b = a * 2\n",
    "print(a)\n",
    "print(b)\n",
    "\n",
    "r = np.vstack((a,b))  # 수직\n",
    "print(r,r.shape)\n",
    "\n",
    "c =  np.row_stack((a,b)) # 행\n",
    "print(c,c.shape)\n",
    "\n",
    "x = np.concatenate((a,b),axis=0)  # axis=0, 수직, 행\n",
    "print(x,x.shape)"
   ]
  },
  {
   "cell_type": "code",
   "execution_count": 37,
   "metadata": {},
   "outputs": [
    {
     "name": "stdout",
     "output_type": "stream",
     "text": [
      "1\n",
      "2\n",
      "[10]\n",
      "[10, 20]\n",
      "[10, 20, 30, 40, 50]\n"
     ]
    }
   ],
   "source": [
    "def func(a,b):\n",
    "    print(a)\n",
    "    print(b)\n",
    "    \n",
    "func(1,2)\n",
    "\n",
    "# vstack((a,b,..)) 튜플로 여러개의 배열을 인자로 주면 모두 합치는 기능구현\n",
    "def func2(a):\n",
    "    result = []    \n",
    "    for k in a:\n",
    "        result.append(k)\n",
    "    return result        \n",
    "    \n",
    "print(func2((10,)))\n",
    "print(func2((10,20)))    \n",
    "print(func2((10,20,30,40,50)))"
   ]
  },
  {
   "cell_type": "code",
   "execution_count": 38,
   "metadata": {},
   "outputs": [
    {
     "name": "stdout",
     "output_type": "stream",
     "text": [
      "[[0 1 2]\n",
      " [3 4 5]\n",
      " [6 7 8]]\n",
      "[[ 0  2  4]\n",
      " [ 6  8 10]\n",
      " [12 14 16]]\n",
      "[[ 0  1  2  0  2  4]\n",
      " [ 3  4  5  6  8 10]\n",
      " [ 6  7  8 12 14 16]] (3, 6)\n",
      "[[ 0  1  2  0  2  4]\n",
      " [ 3  4  5  6  8 10]\n",
      " [ 6  7  8 12 14 16]] (3, 6)\n",
      "[[ 0  1  2  0  2  4]\n",
      " [ 3  4  5  6  8 10]\n",
      " [ 6  7  8 12 14 16]] (3, 6)\n"
     ]
    }
   ],
   "source": [
    "# 수평으로 합치기\n",
    "a = np.arange(9).reshape(3,3)\n",
    "b = a * 2\n",
    "print(a)\n",
    "print(b)\n",
    "\n",
    "r = np.hstack((a,b))  # 수평\n",
    "print(r,r.shape)\n",
    "\n",
    "c =  np.column_stack((a,b)) # 열\n",
    "print(c,c.shape)\n",
    "\n",
    "x = np.concatenate((a,b),axis=1)  # axis=1, 수평, 열\n",
    "print(x,x.shape)"
   ]
  },
  {
   "cell_type": "markdown",
   "metadata": {},
   "source": [
    "### 쪼개기\n",
    "#### * vsplit(배열, 행의 갯수):수직,  split(배열, 행의 갯수,axis=0)\n",
    "#### * hsplit(배열, 열의 갯수):수직,  split(배열, 열의 갯수,axis=1)"
   ]
  },
  {
   "cell_type": "code",
   "execution_count": 39,
   "metadata": {},
   "outputs": [
    {
     "name": "stdout",
     "output_type": "stream",
     "text": [
      "[[ 0  1  2]\n",
      " [ 3  4  5]\n",
      " [ 6  7  8]\n",
      " [ 9 10 11]]\n",
      "[array([[0, 1, 2]]), array([[3, 4, 5]]), array([[6, 7, 8]]), array([[ 9, 10, 11]])]\n",
      "[array([[0, 1, 2]]), array([[3, 4, 5]]), array([[6, 7, 8]]), array([[ 9, 10, 11]])]\n",
      "[[0 1 2]] [[3 4 5]] [[6 7 8]] [[ 9 10 11]]\n"
     ]
    }
   ],
   "source": [
    "# 수직으로 쪼개기\n",
    "a = np.arange(12).reshape(4,3)\n",
    "print(a)\n",
    "\n",
    "print(np.vsplit(a,4))\n",
    "print(np.split(a,4,axis=0))\n",
    "print(a[0:1],a[1:2],a[2:3],a[3:]) # 슬라이싱으로도 쪼갤 수 있다"
   ]
  },
  {
   "cell_type": "code",
   "execution_count": 40,
   "metadata": {},
   "outputs": [
    {
     "name": "stdout",
     "output_type": "stream",
     "text": [
      "[[ 0  1  2  3]\n",
      " [ 4  5  6  7]\n",
      " [ 8  9 10 11]]\n",
      "[array([[0],\n",
      "       [4],\n",
      "       [8]]), array([[1],\n",
      "       [5],\n",
      "       [9]]), array([[ 2],\n",
      "       [ 6],\n",
      "       [10]]), array([[ 3],\n",
      "       [ 7],\n",
      "       [11]])]\n",
      "[array([[0],\n",
      "       [4],\n",
      "       [8]]), array([[1],\n",
      "       [5],\n",
      "       [9]]), array([[ 2],\n",
      "       [ 6],\n",
      "       [10]]), array([[ 3],\n",
      "       [ 7],\n",
      "       [11]])]\n"
     ]
    }
   ],
   "source": [
    "# 수평으로 쪼개기\n",
    "a = np.arange(12).reshape(3,4)\n",
    "print(a)\n",
    "\n",
    "print(np.hsplit(a,4))\n",
    "print(np.split(a,4,axis=1))"
   ]
  },
  {
   "cell_type": "markdown",
   "metadata": {},
   "source": [
    "### 배열의 연산: 행렬(matrix)의 연산, 선형대수(Linear Algebra)"
   ]
  },
  {
   "cell_type": "markdown",
   "metadata": {},
   "source": [
    "#### [1] 배열과 상수간의 연산 :배열 <연산자> 상수, 상수 <연산자> 배열\n",
    "#### 하나의 스칼라와 배열의 연산, 브로드 캐스팅에 해당"
   ]
  },
  {
   "cell_type": "code",
   "execution_count": 41,
   "metadata": {},
   "outputs": [
    {
     "name": "stdout",
     "output_type": "stream",
     "text": [
      "[[ 0  1  2  3]\n",
      " [ 4  5  6  7]\n",
      " [ 8  9 10 11]\n",
      " [12 13 14 15]] (4, 4)\n",
      "[[10 11 12 13]\n",
      " [14 15 16 17]\n",
      " [18 19 20 21]\n",
      " [22 23 24 25]]\n",
      "[[-10  -9  -8  -7]\n",
      " [ -6  -5  -4  -3]\n",
      " [ -2  -1   0   1]\n",
      " [  2   3   4   5]]\n",
      "[[  0  10  20  30]\n",
      " [ 40  50  60  70]\n",
      " [ 80  90 100 110]\n",
      " [120 130 140 150]]\n",
      "[[0.  0.1 0.2 0.3]\n",
      " [0.4 0.5 0.6 0.7]\n",
      " [0.8 0.9 1.  1.1]\n",
      " [1.2 1.3 1.4 1.5]]\n",
      "------------------------------\n",
      "[[10 11 12 13]\n",
      " [14 15 16 17]\n",
      " [18 19 20 21]\n",
      " [22 23 24 25]]\n",
      "[[10  9  8  7]\n",
      " [ 6  5  4  3]\n",
      " [ 2  1  0 -1]\n",
      " [-2 -3 -4 -5]]\n",
      "[[  0  10  20  30]\n",
      " [ 40  50  60  70]\n",
      " [ 80  90 100 110]\n",
      " [120 130 140 150]]\n",
      "[[        inf 10.          5.          3.33333333]\n",
      " [ 2.5         2.          1.66666667  1.42857143]\n",
      " [ 1.25        1.11111111  1.          0.90909091]\n",
      " [ 0.83333333  0.76923077  0.71428571  0.66666667]]\n",
      "[[10.          5.          3.33333333  2.5       ]\n",
      " [ 2.          1.66666667  1.42857143  1.25      ]\n",
      " [ 1.11111111  1.          0.90909091  0.83333333]\n",
      " [ 0.76923077  0.71428571  0.66666667  0.625     ]]\n"
     ]
    },
    {
     "name": "stderr",
     "output_type": "stream",
     "text": [
      "C:\\ProgramData\\Anaconda3\\lib\\site-packages\\ipykernel_launcher.py:12: RuntimeWarning: divide by zero encountered in true_divide\n",
      "  if sys.path[0] == '':\n"
     ]
    }
   ],
   "source": [
    "A = np.arange(16).reshape(4,4)\n",
    "print(A,A.shape)\n",
    "\n",
    "print(A + 10)\n",
    "print(A - 10)\n",
    "print(A * 10)\n",
    "print(A / 10)\n",
    "print('-'*30)\n",
    "print(10 + A)\n",
    "print(10 - A)\n",
    "print(10 * A)\n",
    "print(10 / A)\n",
    "print(10 / (A + 1))"
   ]
  },
  {
   "cell_type": "code",
   "execution_count": 42,
   "metadata": {},
   "outputs": [
    {
     "name": "stdout",
     "output_type": "stream",
     "text": [
      "inf\n",
      "nan\n"
     ]
    },
    {
     "name": "stderr",
     "output_type": "stream",
     "text": [
      "C:\\ProgramData\\Anaconda3\\lib\\site-packages\\ipykernel_launcher.py:5: RuntimeWarning: divide by zero encountered in true_divide\n",
      "  \"\"\"\n",
      "C:\\ProgramData\\Anaconda3\\lib\\site-packages\\ipykernel_launcher.py:6: RuntimeWarning: invalid value encountered in true_divide\n",
      "  \n"
     ]
    }
   ],
   "source": [
    "# 나눗셈 연산\n",
    "# print(10/0)  # ZeroDivisionError: division by zero\n",
    "# print(0/0)   # ZeroDivisionError: division by zero\n",
    "\n",
    "print(np.divide(10,0))  # inf\n",
    "print(np.divide(0,0))   # nan : not a number"
   ]
  },
  {
   "cell_type": "markdown",
   "metadata": {},
   "source": [
    "### [2] 배열과 배열의 요소간의 연산 : element-wise 연산 "
   ]
  },
  {
   "cell_type": "code",
   "execution_count": 43,
   "metadata": {},
   "outputs": [
    {
     "name": "stdout",
     "output_type": "stream",
     "text": [
      "[[0 1 2]\n",
      " [3 4 5]\n",
      " [6 7 8]]\n",
      "[[-1  0  1]\n",
      " [ 2  3  4]\n",
      " [ 5  6  7]]\n",
      "[[-1  1  3]\n",
      " [ 5  7  9]\n",
      " [11 13 15]]\n",
      "[[1 1 1]\n",
      " [1 1 1]\n",
      " [1 1 1]]\n",
      "[[ 0  0  2]\n",
      " [ 6 12 20]\n",
      " [30 42 56]]\n",
      "[[-0.                 inf  2.        ]\n",
      " [ 1.5         1.33333333  1.25      ]\n",
      " [ 1.2         1.16666667  1.14285714]]\n"
     ]
    },
    {
     "name": "stderr",
     "output_type": "stream",
     "text": [
      "C:\\ProgramData\\Anaconda3\\lib\\site-packages\\ipykernel_launcher.py:10: RuntimeWarning: divide by zero encountered in true_divide\n",
      "  # Remove the CWD from sys.path while we load stuff.\n"
     ]
    }
   ],
   "source": [
    "# shape 이 같은 경우\n",
    "A = np.arange(9).reshape(3,3)\n",
    "B = np.arange(9).reshape(3,3) - 1\n",
    "print(A)\n",
    "print(B)\n",
    "\n",
    "print(A + B)\n",
    "print(A - B)\n",
    "print(A * B)\n",
    "print(A / B)"
   ]
  },
  {
   "cell_type": "markdown",
   "metadata": {},
   "source": [
    "### 브로드 캐스팅 : 차원의 크기가 서로다른 배열에서 산술 연산이 가능"
   ]
  },
  {
   "cell_type": "code",
   "execution_count": 44,
   "metadata": {},
   "outputs": [
    {
     "name": "stdout",
     "output_type": "stream",
     "text": [
      "[[0 1]\n",
      " [2 3]\n",
      " [4 5]]\n",
      "[[1 2]]\n",
      "------------------------------\n",
      "[[1 3]\n",
      " [3 5]\n",
      " [5 7]]\n",
      "[[-1 -1]\n",
      " [ 1  1]\n",
      " [ 3  3]]\n",
      "[[ 0  2]\n",
      " [ 2  6]\n",
      " [ 4 10]]\n",
      "[[0.  0.5]\n",
      " [2.  1.5]\n",
      " [4.  2.5]]\n",
      "------------------------------\n",
      "[[1 3]\n",
      " [3 5]\n",
      " [5 7]]\n",
      "[[ 1  1]\n",
      " [-1 -1]\n",
      " [-3 -3]]\n",
      "[[ 0  2]\n",
      " [ 2  6]\n",
      " [ 4 10]]\n",
      "[[       inf 2.        ]\n",
      " [0.5        0.66666667]\n",
      " [0.25       0.4       ]]\n",
      "[[1 2]]\n"
     ]
    },
    {
     "name": "stderr",
     "output_type": "stream",
     "text": [
      "C:\\ProgramData\\Anaconda3\\lib\\site-packages\\ipykernel_launcher.py:15: RuntimeWarning: divide by zero encountered in true_divide\n",
      "  from ipykernel import kernelapp as app\n"
     ]
    }
   ],
   "source": [
    "A = np.arange(6).reshape(3,2)\n",
    "B = np.arange(2).reshape(1,2) + 1\n",
    "print(A)   # (3,2)\n",
    "print(B)   # (1,2)\n",
    "\n",
    "print('-'*30)\n",
    "print(A + B)   # 연산시 배열 B가 (3,2)로 일시적으로 자동 변경되어 연산\n",
    "print(A - B)\n",
    "print(A * B)\n",
    "print(A / B)\n",
    "print('-'*30)\n",
    "print(B + A)\n",
    "print(B - A)\n",
    "print(B * A)\n",
    "print(B / A)\n",
    "print(B)"
   ]
  },
  {
   "cell_type": "code",
   "execution_count": 45,
   "metadata": {},
   "outputs": [
    {
     "name": "stdout",
     "output_type": "stream",
     "text": [
      "[[1. 1. 1.]\n",
      " [1. 1. 1.]]\n",
      "[0 1 2]\n",
      "[[1. 2. 3.]\n",
      " [1. 2. 3.]]\n"
     ]
    }
   ],
   "source": [
    "# 브로드 캐스팅 규칙 : 차원과 shape 이 자동 조정\n",
    "# 규칙 1 : 두 배열의 차원 수가 다르면 더 작은 수의 차원을 가진 배열의 shape의\n",
    "#          앞쪽(왼쪽)을 1로 채운다\n",
    "# 규칙 2 : 차원이 같은 두 배열의 shape 이 1인 배열을 다른 배열의 shape과 \n",
    "#          일치하도록 늘인다\n",
    "# 규칙 3 : 임의의 차원에서 크기가 일치하지 않고 1도 아니라면 오류가 발생\n",
    "\n",
    "A = np.ones((2,3))   # (2,3) , 2차원 배열\n",
    "B = np.arange(3)     # (3,)  , 1차원 배열\n",
    "print(A)\n",
    "print(B)\n",
    "\n",
    "# 규칙 1 적용 :  B의 shape ==> (1,3)  , B: [[0 1 2]]\n",
    "# 규칙 2 적용 :  B의 shape ==> (2,3)  , B: [[0 1 2]\n",
    "#                                          [0 1 2]]\n",
    "print(A + B) # 브로드 캐스팅 성공"
   ]
  },
  {
   "cell_type": "code",
   "execution_count": 46,
   "metadata": {},
   "outputs": [
    {
     "name": "stdout",
     "output_type": "stream",
     "text": [
      "[[1.]\n",
      " [1.]\n",
      " [1.]]\n",
      "[0 1 2]\n",
      "[[1. 2. 3.]\n",
      " [1. 2. 3.]\n",
      " [1. 2. 3.]]\n"
     ]
    }
   ],
   "source": [
    "A = np.ones((3,1))  # (3,1)\n",
    "B = np.arange(3)    # (3,)\n",
    "print(A)\n",
    "print(B)\n",
    "\n",
    "# 규칙 1 적용 : B.shape ==> (1,3)   [[0 1 2]]\n",
    "# 규칙 2 적용 : B.shape ==> (3,3)   [[0 1 2]\n",
    "#                                   [0 1 2]\n",
    "#                                   [0 1 2]]\n",
    "\n",
    "# 규칙 2 적용 : A.shape ==> (3,3)   [[1 1 1]\n",
    "#                                   [1 1 1]\n",
    "#                                   [1 1 1]]\n",
    "\n",
    "print(A + B)  # 브로드 캐스팅 성공"
   ]
  },
  {
   "cell_type": "code",
   "execution_count": 47,
   "metadata": {},
   "outputs": [
    {
     "name": "stdout",
     "output_type": "stream",
     "text": [
      "[[1. 1.]\n",
      " [1. 1.]\n",
      " [1. 1.]]\n",
      "[0 1 2]\n"
     ]
    }
   ],
   "source": [
    "A = np.ones((3,2))  # (3,2)\n",
    "B = np.arange(3)    # (3,)\n",
    "print(A)\n",
    "print(B)\n",
    "\n",
    "# 규칙 1 적용 : B.shape ==> (1,3)  , [[0 1 2]]\n",
    "# 규칙 2 적용 : B.shape ==> (3,3)  , [[0 1 2]\n",
    "#                                    [0 1 2]\n",
    "#                                    [0 1 2]]\n",
    "\n",
    "# 규칙 3 에 해당하므로 오류 발생 : 열의 크기가 다르고 1의 값이 없다\n",
    "\n",
    "# print(A + B) #ValueError: operands could not be broadcast together with shapes (3,2) (3,) "
   ]
  },
  {
   "cell_type": "code",
   "execution_count": 49,
   "metadata": {},
   "outputs": [],
   "source": [
    "# 끝쪽 차원부터 비교하면서 앞쪽으로 진행한다\n",
    "# 두 배열의 각 차원에서 shape 이 같거나 shape이 1인경우 브로드캐스팅 가능\n",
    "A  =  (2, 3)\n",
    "B  =     (3,)\n",
    "----------------\n",
    "결과:  (2, 3)\n",
    "    \n",
    "A  =  (3, 1)\n",
    "B  =     (3,)\n",
    "----------------  \n",
    "결과:  (3, 3)\n",
    "\n",
    "\n",
    "A  =  (3, 2)\n",
    "B  =     (3,)\n",
    "---------------- \n",
    "결과:  (3, x) ==> 오류\n",
    "\n",
    "A  =  (15, 3, 5)\n",
    "B  =      (3, 1) \n",
    "---------------- \n",
    "결과: (15, 3, 5)   \n",
    "\n",
    "A  =  (8, 1, 6, 1)\n",
    "B  =     (7, 1, 5)\n",
    "--------------------\n",
    "결과:  (8, 7, 6, 5)\n",
    "\n",
    "A  =  (8, 4, 3)\n",
    "B  =     (2, 1)\n",
    "----------------\n",
    "결과: (8, x, 3) ==> 오류    "
   ]
  },
  {
   "cell_type": "markdown",
   "metadata": {},
   "source": [
    "### [2] dot product: 내적 곱셈 ,행렬(matrix)"
   ]
  },
  {
   "cell_type": "code",
   "execution_count": 57,
   "metadata": {},
   "outputs": [
    {
     "name": "stdout",
     "output_type": "stream",
     "text": [
      "[[1 2 3]\n",
      " [4 5 6]]\n",
      "[[ 7  8]\n",
      " [ 9 10]\n",
      " [11 12]]\n",
      "[[ 58  64]\n",
      " [139 154]]\n"
     ]
    }
   ],
   "source": [
    "A = np.array([[1,2,3],\n",
    "              [4,5,6]])\n",
    "B = np.array([[7,8],\n",
    "              [9,10],\n",
    "              [11,12]])\n",
    "print(A)    # (2,3)\n",
    "print(B)    # (3,2)\n",
    "\n",
    "dot_product = np.dot(A,B)  # 두개의 행렬만 사용 가능\n",
    "print(dot_product)\n",
    "# print(A*B) # ValueError\n",
    "\n",
    "# (2,3) * (3,2) = (2,2)\n",
    "# (m,n) * (n,l) = (m,l) # 행렬의 내적 곱셈시 shape 공식 ==> 필수 암기 요망!!\n",
    "\n",
    "# (10,4) * (x,y)  = (10,2)    # x = 4, y = 2를 구할 수 있어야 한다\n",
    "# (768,10) * (x,y) = (768,3)  # x = 10 , y = 3"
   ]
  },
  {
   "cell_type": "code",
   "execution_count": 63,
   "metadata": {},
   "outputs": [
    {
     "name": "stdout",
     "output_type": "stream",
     "text": [
      "[[1 2 3]\n",
      " [4 5 6]]\n",
      "[[ 7  8]\n",
      " [ 9 10]\n",
      " [11 12]]\n",
      "<class 'numpy.matrix'>\n",
      "[[ 58  64]\n",
      " [139 154]]\n",
      "[[12260 13568]\n",
      " [29468 32612]]\n"
     ]
    }
   ],
   "source": [
    "# <class 'numpy.matrix'>\n",
    "A = np.mat(\"1 2 3;4 5 6\")\n",
    "B = np.mat(\"7 8;9 10;11 12\")\n",
    "print(A)   # (2,3)\n",
    "print(B)   # (3,2)\n",
    "print(type(A))\n",
    "\n",
    "print(A * B ) # 행렬의 내적 곱셈, dot product,inner product\n",
    "print(A * B * A * B)"
   ]
  },
  {
   "cell_type": "markdown",
   "metadata": {},
   "source": [
    "### 역행렬 구하기"
   ]
  },
  {
   "cell_type": "code",
   "execution_count": 73,
   "metadata": {},
   "outputs": [
    {
     "name": "stdout",
     "output_type": "stream",
     "text": [
      "[[1. 0. 0.]\n",
      " [0. 1. 0.]\n",
      " [0. 0. 1.]]\n",
      "[[ 2  4  6]\n",
      " [ 4  2  6]\n",
      " [10 -4 18]] <class 'numpy.matrix'>\n",
      "[[-0.41666667  0.66666667 -0.08333333]\n",
      " [ 0.08333333  0.16666667 -0.08333333]\n",
      " [ 0.25       -0.33333333  0.08333333]]\n",
      "[[ 1.00000000e+00 -2.22044605e-16  0.00000000e+00]\n",
      " [ 5.55111512e-17  1.00000000e+00  0.00000000e+00]\n",
      " [ 3.88578059e-16 -4.44089210e-16  1.00000000e+00]]\n",
      "[[ 0.00000000e+00 -2.22044605e-16  0.00000000e+00]\n",
      " [ 5.55111512e-17 -4.44089210e-16  0.00000000e+00]\n",
      " [ 3.88578059e-16 -4.44089210e-16  0.00000000e+00]]\n"
     ]
    }
   ],
   "source": [
    "# (행렬 A)*(A의 역행렬) ==> 단위행렬(항등행렬 ,identity matrix, np.eye())\n",
    "# 단위 행렬(E) : 대각선으로 1 이고 나머지는 0 인 행렬, A*E = A를 만족하는 행렬\n",
    "print(np.eye(3))\n",
    "\n",
    "A = np.mat(\"2 4 6;4 2 6;10 -4 18\")\n",
    "print(A,type(A))  # (3,3)\n",
    "\n",
    "inverse = np.linalg.inv(A) # 역행렬(inverse)\n",
    "print(inverse)\n",
    "print(A*inverse)\n",
    "print(A*inverse - np.eye(3)) # 단위 행렬 - 단위행렬 ==> 요소가 모두 0 이 된다"
   ]
  },
  {
   "cell_type": "code",
   "execution_count": 76,
   "metadata": {},
   "outputs": [
    {
     "name": "stdout",
     "output_type": "stream",
     "text": [
      "A: [[ 1 -2  1]\n",
      " [ 0  2 -8]\n",
      " [-4  5  9]]\n",
      "b: [ 0  8 -9]\n"
     ]
    }
   ],
   "source": [
    "## 선형 방정식 풀이 : 선형 시스템 해석\n",
    "\n",
    "# 연립 방정식 : x0,x1,x2를 구하시오\n",
    "# 1*x0 - 2*x1 + 1*x2 = 0     # 1*29 - 2*16 + 1*3 = 0\n",
    "# 0*x0 + 2*x1 - 8*x2 = 8\n",
    "# -4*x0 + 5*x2 + 9*x2 = -9\n",
    "\n",
    "A = np.mat(\"1 -2 1;0 2 -8;-4 5 9\")\n",
    "print('A:',A)  # (3,3)\n",
    "\n",
    "b = np.array([0,8,-9])\n",
    "print('b:',b)  # (3,)"
   ]
  },
  {
   "cell_type": "code",
   "execution_count": 79,
   "metadata": {},
   "outputs": [
    {
     "name": "stdout",
     "output_type": "stream",
     "text": [
      "Solution: [29. 16.  3.] <class 'numpy.ndarray'>\n",
      "Check\n",
      " [[ 0.  8. -9.]]\n"
     ]
    }
   ],
   "source": [
    "# solve()함수를 사용하여 연립 방정식의 답을 구하기\n",
    "x = np.linalg.solve(A,b)\n",
    "print('Solution:',x,type(x))\n",
    "print('Check\\n',np.dot(A,x))\n",
    "# A dot x ==> b\n",
    "# [[ 1 -2  1]         [[29          [[0\n",
    "#  [ 0  2 -8]    dot    16      ==>   8\n",
    "#  [-4  5  9]]          3]]           9]]\n",
    "#   (3,3)        *   (3,1)     ==> (3,1)"
   ]
  },
  {
   "cell_type": "code",
   "execution_count": 86,
   "metadata": {},
   "outputs": [
    {
     "name": "stdout",
     "output_type": "stream",
     "text": [
      "[[29.  11.5  7. ]\n",
      " [16.   6.5  4. ]\n",
      " [ 4.   1.5  1. ]] <class 'numpy.matrix'>\n",
      "[[29. 16.  3.]] <class 'numpy.matrix'>\n",
      "Check\n",
      " [[ 0.]\n",
      " [ 8.]\n",
      " [-9.]]\n"
     ]
    }
   ],
   "source": [
    "# 역행렬을 사용하여 연립 방정식의 답을 구하기\n",
    "# A dot x ==> b\n",
    "# x = (A의 역행렬) * b\n",
    "inverse = np.linalg.inv(A)\n",
    "print(inverse,type(inverse))\n",
    "x = np.dot(inverse,b)  # (3,3) * (3,1) = (3,1)\n",
    "print(x,type(x))\n",
    "print('Check\\n',np.dot(A,x.reshape(3,1))) # (3,3) * (3,1) = (3,1)"
   ]
  },
  {
   "cell_type": "code",
   "execution_count": 91,
   "metadata": {},
   "outputs": [
    {
     "name": "stdout",
     "output_type": "stream",
     "text": [
      "[[0 1 2]\n",
      " [3 4 5]\n",
      " [6 7 8]]\n",
      "[0 1 2]\n",
      "<class 'numpy.ndarray'>\n",
      "[[ 0  1  4]\n",
      " [ 0  4 10]\n",
      " [ 0  7 16]]\n",
      "[ 5 14 23]\n"
     ]
    }
   ],
   "source": [
    "# 행렬의 곱셈 연산시 내적곱(dot product,inner product,matrix곱셈)인지\n",
    "# 요소간의 곱셈(element-wise곱셈)인지를  반드시 구별하여 사용해야 한다\n",
    "A = np.arange(9).reshape(3,3)\n",
    "B = np.arange(3)\n",
    "print(A)  # (3,3)\n",
    "print(B)  # (3,)\n",
    "print(type(A))\n",
    "\n",
    "print(A * B)  # element-wise곱셈, 브로드 캐스팅 적용\n",
    "print(np.dot(A,B))  # 내적곱(dot product), (3,3) * (3,1) = (3,1)"
   ]
  },
  {
   "cell_type": "code",
   "execution_count": 110,
   "metadata": {},
   "outputs": [
    {
     "name": "stdout",
     "output_type": "stream",
     "text": [
      "[0. 0. 0. 0. 0. 0. 0. 0. 0. 0.]\n",
      "[[0. 0. 0. 0.]\n",
      " [0. 0. 0. 0.]\n",
      " [0. 0. 0. 0.]]\n",
      "[1. 1. 1. 1. 1. 1. 1. 1. 1. 1.]\n",
      "[[1. 1. 1. 1.]\n",
      " [1. 1. 1. 1.]\n",
      " [1. 1. 1. 1.]]\n",
      "[[3. 3. 3. 3.]\n",
      " [3. 3. 3. 3.]\n",
      " [3. 3. 3. 3.]]\n"
     ]
    }
   ],
   "source": [
    "# 기타 연산자 : zeros(), ones()\n",
    "print(np.zeros(10))    # (10,)\n",
    "print(np.zeros((3,4))) # (3,4)\n",
    "\n",
    "print(np.ones(10))     # (10,)\n",
    "print(np.ones((3,4)))  # (3,4)\n",
    "\n",
    "a = np.ones((3,4))*3   # 요소의 값을 모두 3으로 채움\n",
    "print(a)"
   ]
  },
  {
   "cell_type": "code",
   "execution_count": 140,
   "metadata": {},
   "outputs": [
    {
     "name": "stdout",
     "output_type": "stream",
     "text": [
      "[[0.66083392 0.61550554 0.68371372 0.41552906]\n",
      " [0.2498419  0.27093717 0.26055958 0.74292657]\n",
      " [0.97129628 0.08554034 0.70133978 0.24695597]]\n",
      "[[1 7 7 0]\n",
      " [1 2 3 8]\n",
      " [7 3 6 0]]\n",
      "[[ 0.25052198  0.7233013  -1.54839488 -0.24628129]\n",
      " [-0.79514179  0.27966047  0.87220542  1.70754843]\n",
      " [-1.25409328 -0.18744486  0.1353452  -0.79719725]]\n"
     ]
    }
   ],
   "source": [
    "# 난수 발생 함수  \n",
    "# rand() : 실수, 0 ~ 1 사이\n",
    "# randint() : 정수, 최대 범위를 지정\n",
    "# randn() : 실수, 범위는 shape에 따라 결정,정규분포(standard normal distribution)\n",
    "\n",
    "# np.random.seed(5) # 난수의 씨앗\n",
    "\n",
    "print(np.random.rand(3,4)) # 값이 0 ~ 1 사이, 실수, shape은 (3,4)\n",
    "print(np.random.randint(10,size=(3,4))) # 값이 0 ~ 10 사이, 정수, shape은 (3,4)\n",
    "print(np.random.randn(3,4)) # 정규 분포, shape(3,4)"
   ]
  },
  {
   "cell_type": "markdown",
   "metadata": {},
   "source": [
    "### Numpy 로 CSV 파일 읽기와 쓰기\n",
    "#### CSV 파일 : Comma Separated Values, 쉼표로 데이터를 구분해놓은 텍스트 파일"
   ]
  },
  {
   "cell_type": "code",
   "execution_count": 161,
   "metadata": {},
   "outputs": [
    {
     "name": "stdout",
     "output_type": "stream",
     "text": [
      "[[-0.46820879 -0.82282485 -0.0653801  -0.71336192]\n",
      " [ 0.90635089  0.76623673  0.82605407 -1.32368279]\n",
      " [-1.75244452  1.00244907         nan  1.8951609 ]]\n"
     ]
    }
   ],
   "source": [
    "np.random.seed(777)\n",
    "\n",
    "a = np.random.randn(3,4)\n",
    "a[2,2] = np.nan\n",
    "print(a)\n",
    "\n",
    "# 배열(ndarray)을 csv 파일로 저장\n",
    "np.savetxt('np.csv',a,delimiter=',',fmt='%.8f',header=' No.1 No.2 No.3 No.4')\n",
    "# np.savetxt(\n",
    "#     fname,\n",
    "#     X,\n",
    "#     fmt='%.18e',\n",
    "#     delimiter=' ',\n",
    "#     newline='\\n',\n",
    "#     header='',\n",
    "#     footer='',\n",
    "#     comments='# ',\n",
    "#     encoding=None,\n",
    "# )"
   ]
  },
  {
   "cell_type": "code",
   "execution_count": 162,
   "metadata": {},
   "outputs": [
    {
     "name": "stdout",
     "output_type": "stream",
     "text": [
      "<class 'numpy.ndarray'> (3, 4)\n",
      "[[-0.46820879 -0.82282485 -0.0653801  -0.71336192]\n",
      " [ 0.90635089  0.76623673  0.82605407 -1.32368279]\n",
      " [-1.75244452  1.00244907         nan  1.8951609 ]]\n"
     ]
    }
   ],
   "source": [
    "# csv파일을 배열(ndarray)로 읽어 오기\n",
    "b = np.loadtxt('np.csv',delimiter=',',dtype=np.float64,skiprows=1)\n",
    "print(type(b),b.shape) # <class 'numpy.ndarray'> (3, 4)\n",
    "print(b)\n",
    "# np.loadtxt(\n",
    "#     fname,\n",
    "#     dtype=<class 'float'>,\n",
    "#     comments='#',\n",
    "#     delimiter=None,\n",
    "#     converters=None,\n",
    "#     skiprows=0,\n",
    "#     usecols=None,\n",
    "#     unpack=False,\n",
    "#     ndmin=0,\n",
    "#     encoding='bytes',\n",
    "#     max_rows=None,\n",
    "# )"
   ]
  },
  {
   "cell_type": "code",
   "execution_count": null,
   "metadata": {},
   "outputs": [],
   "source": []
  }
 ],
 "metadata": {
  "kernelspec": {
   "display_name": "Python 3",
   "language": "python",
   "name": "python3"
  },
  "language_info": {
   "codemirror_mode": {
    "name": "ipython",
    "version": 3
   },
   "file_extension": ".py",
   "mimetype": "text/x-python",
   "name": "python",
   "nbconvert_exporter": "python",
   "pygments_lexer": "ipython3",
   "version": "3.7.6"
  }
 },
 "nbformat": 4,
 "nbformat_minor": 4
}
