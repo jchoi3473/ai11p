{
 "cells": [
  {
   "cell_type": "markdown",
   "metadata": {},
   "source": [
    "### 넘파이(Numpy) : 배열(ndarray, n dimension array)\n",
    "#### 리스트(list): Linked List 구조(불연속), 동작 속도가 느리다, comma로 요소 구별, 서로 다른 자료형 사용가능\n",
    "#### 배열(ndarray) : 연속된 메모리 구조, 동작 속도가 빠르다, comma를 사용하지 않고 공백으로 요소를 구별, 오직 한 가지 타입만 갖을 수 있다"
   ]
  },
  {
   "cell_type": "code",
   "execution_count": 18,
   "metadata": {},
   "outputs": [
    {
     "name": "stdout",
     "output_type": "stream",
     "text": [
      "[0, 1, 2, 3, 4, 5, 'hello'] <class 'list'>\n",
      "[0. 1. 2. 3. 4. 5.] <class 'numpy.ndarray'>\n",
      "float64\n"
     ]
    },
    {
     "data": {
      "text/plain": [
       "array([0., 1., 2., 3., 4., 5.])"
      ]
     },
     "execution_count": 18,
     "metadata": {},
     "output_type": "execute_result"
    }
   ],
   "source": [
    "import numpy as np\n",
    "# pip install numpy\n",
    "\n",
    "# list\n",
    "list1 = [0,1,2,3,4,5,'hello']\n",
    "print(list1,type(list1))\n",
    "\n",
    "# ndarray\n",
    "a = np.array([0,1,2,3,4,5])\n",
    "print(a,type(a))            # <class 'numpy.ndarray'>\n",
    "print(a.dtype)              # 요소의 자료형 int32(windows) , int64(Mac/Linux)\n",
    "a     # Shift + Tab : 변수위에 커서를 놓고 함수(메서드)의 프로토 타입을 볼수 있다"
   ]
  },
  {
   "cell_type": "code",
   "execution_count": 17,
   "metadata": {},
   "outputs": [
    {
     "data": {
      "text/plain": [
       "dict_keys(['?', 0, 'byte', 'b', 1, 'ubyte', 'B', 2, 'short', 'h', 3, 'ushort', 'H', 4, 'i', 5, 'uint', 'I', 6, 'intp', 'p', 9, 'uintp', 'P', 10, 'long', 'l', 7, 'L', 8, 'longlong', 'q', 'ulonglong', 'Q', 'half', 'e', 23, 'f', 11, 'double', 'd', 12, 'longdouble', 'g', 13, 'cfloat', 'F', 14, 'cdouble', 'D', 15, 'clongdouble', 'G', 16, 'O', 17, 'S', 18, 'unicode', 'U', 19, 'void', 'V', 20, 'M', 21, 'm', 22, 'bool8', 'Bool', 'b1', 'int64', 'Int64', 'i8', 'uint64', 'Uint64', 'u8', 'float16', 'Float16', 'f2', 'float32', 'Float32', 'f4', 'float64', 'Float64', 'f8', 'complex64', 'Complex32', 'c8', 'complex128', 'Complex64', 'c16', 'object0', 'Object0', 'bytes0', 'Bytes0', 'str0', 'Str0', 'void0', 'Void0', 'datetime64', 'Datetime64', 'M8', 'timedelta64', 'Timedelta64', 'm8', 'int32', 'Int32', 'i4', 'uint32', 'UInt32', 'u4', 'UInt64', 'int16', 'Int16', 'i2', 'uint16', 'UInt16', 'u2', 'int8', 'Int8', 'i1', 'uint8', 'UInt8', 'u1', 'complex_', 'int0', 'uint0', 'single', 'csingle', 'singlecomplex', 'float_', 'intc', 'uintc', 'int_', 'longfloat', 'clongfloat', 'longcomplex', 'bool_', 'bytes_', 'string_', 'unicode_', 'object_', 'str_', 'int', 'float', 'complex', 'bool', 'object', 'str', 'bytes', 'a'])"
      ]
     },
     "execution_count": 17,
     "metadata": {},
     "output_type": "execute_result"
    }
   ],
   "source": [
    "# numpy 의 dtype 객체의 종류 : 대소문자 모두 사용 가능\n",
    "np.sctypeDict.keys()"
   ]
  },
  {
   "cell_type": "code",
   "execution_count": 23,
   "metadata": {},
   "outputs": [
    {
     "name": "stdout",
     "output_type": "stream",
     "text": [
      "[0.  1.  2.5 3.  4.  5. ] float64\n"
     ]
    }
   ],
   "source": [
    "# int와 float --> float\n",
    "a = np.array([0,1,2.,3,4,5])\n",
    "print(a,a.dtype) # 요소의 자료형: float64"
   ]
  },
  {
   "cell_type": "code",
   "execution_count": 46,
   "metadata": {},
   "outputs": [
    {
     "name": "stdout",
     "output_type": "stream",
     "text": [
      "['0' '1' '2.0' '3' '4' '5' 'Hello'] <U32\n"
     ]
    }
   ],
   "source": [
    "# int와 float와 str --> Unicode string\n",
    "a = np.array([0,1,2.,3,4,5,'Hello'])\n",
    "print(a,a.dtype) # <U32    , < : 리틀엔디언 , U:유니코드 , 32: 최대 문자 32byte\n",
    "\n",
    "# 유니코드 인코딩 방식\n",
    "# (1) EUC-KR,CP949(MS949) : 완성형, 한글 2 바이트, 영문은 1 바이트, Windows\n",
    "# (2) UTF-8 : 조합형, 한글 3 바이트, 영문은 1 바이트, Linux/Mac"
   ]
  },
  {
   "cell_type": "code",
   "execution_count": 45,
   "metadata": {},
   "outputs": [
    {
     "name": "stdout",
     "output_type": "stream",
     "text": [
      "['1.234' '3.123' '4.4356' '5' '7'] <U6\n",
      "[1.234  3.123  4.4356 5.     7.    ] float32\n",
      "[1 3 4 5 7] int32\n"
     ]
    }
   ],
   "source": [
    "# 배열의 데이터 타입 변환 : astype()\n",
    "a1 = np.array(['1.234','3.123','4.4356','5','7'])\n",
    "print(a1,a1.dtype)  # 요소의 자료형 : <U6\n",
    "\n",
    "a2 = a1.astype('float32')\n",
    "print(a2,a2.dtype)  # 요소의 자료형: float32\n",
    "\n",
    "a3 = a2.astype('int32')\n",
    "print(a3,a3.dtype)  # float32\n",
    "\n",
    "# a3 = a1.astype('int32')  # ValueError"
   ]
  },
  {
   "cell_type": "markdown",
   "metadata": {},
   "source": [
    "### 차원(Dimension,Rank) 과 Shape\n",
    "#### * 차원(Dimension,Rank)  : 1,2,3차원,n차원, 첫 데이터까지의 대괄호의 갯수\n",
    "#### * Shape : 차원의 요소의 수, 튜플 형식\n",
    "####  1 차원 Shape : (x,)\n",
    "####  2 차원 Shape : (x,y), 행렬(matrix)\n",
    "####  3 차원 Shape : (x,y,z) , (면,행,열) \n",
    "... \n",
    "####  n 차원 Shape : (x,y,z,....)"
   ]
  },
  {
   "cell_type": "code",
   "execution_count": 56,
   "metadata": {},
   "outputs": [
    {
     "name": "stdout",
     "output_type": "stream",
     "text": [
      "[ 0  1  2  3  4  5  6  7  8  9 10 11] <class 'numpy.ndarray'> 1 (12,)\n",
      "<class 'tuple'>\n",
      "12\n",
      "[2 3 4 5 6 7 8 9] (8,)\n",
      "[ 0  2  4  6  8 10 12 14] (8,)\n"
     ]
    }
   ],
   "source": [
    "# 1차원 배열의 shape\n",
    "# arange(start,end+1,step)\n",
    "a = np.arange(12)\n",
    "print(a,type(a),a.ndim,a.shape)  # 1차원  (12,)\n",
    "t = a.shape\n",
    "print(type(t))\n",
    "print(a.shape[0])  # 12\n",
    "\n",
    "a2 = np.arange(2,10)\n",
    "print(a2,a2.shape) # (8,)\n",
    "\n",
    "a3 = np.arange(0,16,2)\n",
    "print(a3,a3.shape) # (8,)"
   ]
  },
  {
   "cell_type": "code",
   "execution_count": 64,
   "metadata": {},
   "outputs": [
    {
     "name": "stdout",
     "output_type": "stream",
     "text": [
      "[[0 1 2]\n",
      " [0 1 2]] (2, 3)\n",
      "[[0 1]\n",
      " [3 4]\n",
      " [6 7]] (3, 2)\n",
      "3 2\n"
     ]
    }
   ],
   "source": [
    "# 2차원 배열의 Shape : 행(row,가로,수직,axis=0)과 열(column,세로,수평,axis=1) => 필수암기 \n",
    "# m = np.array([np.arange(3),np.arange(3)])\n",
    "m = np.array([[0,1,2],\n",
    "              [0,1,2]])\n",
    "print(m,m.shape)   # (2,3)\n",
    "\n",
    "m = np.array([[0,1],\n",
    "              [3,4],\n",
    "              [6,7]])\n",
    "print(m,m.shape)   # (3,2)\n",
    "print(m.shape[0],m.shape[1])"
   ]
  },
  {
   "cell_type": "code",
   "execution_count": 69,
   "metadata": {},
   "outputs": [
    {
     "name": "stdout",
     "output_type": "stream",
     "text": [
      "[[[0 1 2]\n",
      "  [3 4 5]]\n",
      "\n",
      " [[0 1 2]\n",
      "  [3 4 5]]] (2, 2, 3)\n",
      "[[[0 1]\n",
      "  [2 3]]\n",
      "\n",
      " [[4 5]\n",
      "  [0 1]]\n",
      "\n",
      " [[2 3]\n",
      "  [4 5]]] (3, 2, 2)\n",
      "[[[0 1 2]]\n",
      "\n",
      " [[3 4 5]]\n",
      "\n",
      " [[0 1 2]]\n",
      "\n",
      " [[3 4 5]]] (4, 1, 3)\n"
     ]
    }
   ],
   "source": [
    "# 3 차원 배열의 Shape: (면,행,열)\n",
    "m = np.array([[[0,1,2],\n",
    "               [3,4,5]],\n",
    "              [[0,1,2],\n",
    "               [3,4,5]]])\n",
    "print(m,m.shape)   # (2,2,3)\n",
    "\n",
    "m = np.array([[[0, 1],\n",
    "               [2, 3]],\n",
    "              [[4, 5],\n",
    "               [0, 1]],\n",
    "              [[2, 3],\n",
    "               [4, 5]]])\n",
    "print(m,m.shape)   # (3,2,2)\n",
    "\n",
    "m = np.array([[[0, 1, 2]],\n",
    "              [[3, 4, 5]],\n",
    "              [[0, 1, 2]],\n",
    "              [[3, 4, 5]]])\n",
    "print(m,m.shape)   # (4,1,3)"
   ]
  },
  {
   "cell_type": "markdown",
   "metadata": {},
   "source": [
    "### 배열의 shape 바꾸기 : reshape() 함수"
   ]
  },
  {
   "cell_type": "code",
   "execution_count": 89,
   "metadata": {},
   "outputs": [
    {
     "name": "stdout",
     "output_type": "stream",
     "text": [
      "[ 0  1  2  3  4  5  6  7  8  9 10 11] (12,)\n",
      "[[ 0]\n",
      " [ 1]\n",
      " [ 2]\n",
      " [ 3]\n",
      " [ 4]\n",
      " [ 5]\n",
      " [ 6]\n",
      " [ 7]\n",
      " [ 8]\n",
      " [ 9]\n",
      " [10]\n",
      " [11]] (12, 1)\n",
      "[[ 0  1  2  3]\n",
      " [ 4  5  6  7]\n",
      " [ 8  9 10 11]] (3, 4)\n",
      "[[ 0  1  2  3  4  5]\n",
      " [ 6  7  8  9 10 11]] (2, 6)\n",
      "[[[ 0  1  2]\n",
      "  [ 3  4  5]]\n",
      "\n",
      " [[ 6  7  8]\n",
      "  [ 9 10 11]]] (2, 2, 3)\n",
      "[[[[ 0  1]]\n",
      "\n",
      "  [[ 2  3]]]\n",
      "\n",
      "\n",
      " [[[ 4  5]]\n",
      "\n",
      "  [[ 6  7]]]\n",
      "\n",
      "\n",
      " [[[ 8  9]]\n",
      "\n",
      "  [[10 11]]]] (3, 2, 1, 2)\n",
      "[[ 0  1  2  3  4  5]\n",
      " [ 6  7  8  9 10 11]\n",
      " [12 13 14 15 16 17]] (3, 6)\n"
     ]
    }
   ],
   "source": [
    "m1 = np.arange(12)\n",
    "print(m1,m1.shape) # (12,)\n",
    "\n",
    "m2 = m1.reshape(12,1)\n",
    "print(m2,m2.shape) # (12, 1)\n",
    "\n",
    "m2 = m1.reshape(3,4)\n",
    "print(m2,m2.shape) # (3,4)\n",
    "\n",
    "m2 = m1.reshape(2,6)\n",
    "print(m2,m2.shape) # (2,6)\n",
    "\n",
    "m3 = m1.reshape(2,2,3)\n",
    "print(m3,m3.shape) # (2,2,3)\n",
    "\n",
    "m4 = m1.reshape(3,2,1,2)\n",
    "print(m4,m4.shape) # (3,2,1,2)\n",
    "\n",
    "m = np.arange(18).reshape(3,6)\n",
    "print(m,m.shape)"
   ]
  },
  {
   "cell_type": "code",
   "execution_count": 100,
   "metadata": {},
   "outputs": [
    {
     "name": "stdout",
     "output_type": "stream",
     "text": [
      "[ 0  1  2  3  4  5  6  7  8  9 10 11] (12,)\n",
      "[[ 0  1  2  3  4  5]\n",
      " [ 6  7  8  9 10 11]] (2, 6)\n",
      "[[ 0  1  2]\n",
      " [ 3  4  5]\n",
      " [ 6  7  8]\n",
      " [ 9 10 11]] (4, 3)\n",
      "[[ 0]\n",
      " [ 1]\n",
      " [ 2]\n",
      " [ 3]\n",
      " [ 4]\n",
      " [ 5]\n",
      " [ 6]\n",
      " [ 7]\n",
      " [ 8]\n",
      " [ 9]\n",
      " [10]\n",
      " [11]] (12, 1)\n",
      "[[[[ 0]\n",
      "   [ 1]]\n",
      "\n",
      "  [[ 2]\n",
      "   [ 3]]]\n",
      "\n",
      "\n",
      " [[[ 4]\n",
      "   [ 5]]\n",
      "\n",
      "  [[ 6]\n",
      "   [ 7]]]\n",
      "\n",
      "\n",
      " [[[ 8]\n",
      "   [ 9]]\n",
      "\n",
      "  [[10]\n",
      "   [11]]]] (3, 2, 2, 1)\n"
     ]
    }
   ],
   "source": [
    "# -1을 사용한 reshape\n",
    "m1 = np.arange(12)\n",
    "print(m1,m1.shape)    #  (12,)\n",
    "\n",
    "m2 = m1.reshape(-1,6) # 행의 요소수를 자동으로 계산, 2\n",
    "print(m2,m2.shape)    # (2,6)\n",
    "\n",
    "m2 = m1.reshape(4,-1) # 열의 요소수를 자동으로 계산, 3\n",
    "print(m2,m2.shape)    # (4,3)\n",
    "\n",
    "# m2 = m1.reshape(-1,-1) # ValueError\n",
    "\n",
    "m2 = m1.reshape(-1,1) # 행의 요소수를 자동으로 계산, 12\n",
    "print(m2,m2.shape)    # (12, 1)\n",
    "\n",
    "m3 = m1.reshape(-1,2,2,1) # 면의 요소수를 자동으로 계산, 3\n",
    "print(m3,m3.shape)    # (3,2,2)"
   ]
  },
  {
   "cell_type": "markdown",
   "metadata": {},
   "source": [
    "### 배열의 인덱싱과 슬라이싱"
   ]
  },
  {
   "cell_type": "code",
   "execution_count": 113,
   "metadata": {},
   "outputs": [
    {
     "name": "stdout",
     "output_type": "stream",
     "text": [
      "[ 0  1  2  3  4  5  6  7  8  9 10 11] (12,)\n",
      "0 1 2 11 10\n",
      "[2 3 4 5 6 7] [ 0  1  2  3  4  5  6  7  8  9 10 11] [ 0  1  2  3  4  5  6  7  8  9 10]\n",
      "[ 0  2  4  6  8 10] [11 10  9  8  7  6  5  4  3  2  1  0]\n",
      "[10  1  2  3  4  5  6  7  8  9 10 11]\n"
     ]
    }
   ],
   "source": [
    "# 1차원 배열의 인덱싱과 슬라이싱 : list 와 동일한 방법\n",
    "d = np.arange(12)\n",
    "print(d,d.shape)\n",
    "\n",
    "# indexing\n",
    "print(d[0],d[1],d[2],d[-1],d[-2])\n",
    "\n",
    "# slicing\n",
    "print(d[2:8],d[:],d[:-1])\n",
    "print(d[::2],d[::-1])\n",
    "\n",
    "d[0] = 10   # list 처럼 요소 변경이 가능\n",
    "print(d)"
   ]
  },
  {
   "cell_type": "code",
   "execution_count": 137,
   "metadata": {},
   "outputs": [
    {
     "name": "stdout",
     "output_type": "stream",
     "text": [
      "[[ 0  1  2  3]\n",
      " [ 4  5  6  7]\n",
      " [ 8  9 10 11]] (3, 4)\n",
      "0\n",
      "0\n",
      "9\n",
      "[0 1 2 3]\n",
      "[0 1 2 3]\n",
      "[[ 0  1  2]\n",
      " [ 4  5  6]\n",
      " [ 8  9 10]]\n",
      "[[ 0  2]\n",
      " [ 8 10]]\n",
      "[[20 20 20 20]\n",
      " [ 4  5  6  7]\n",
      " [ 8  9 10 11]]\n",
      "[[30 30]\n",
      " [30 30]]\n",
      "[[30 20 20 30]\n",
      " [ 4  5  6  7]\n",
      " [30  9 10 30]]\n",
      "[[-1 -1 -1 -1]\n",
      " [-1 -1 -1 -1]\n",
      " [-1 -1 -1 -1]]\n"
     ]
    }
   ],
   "source": [
    "# 2차원 배열의 인덱싱과 슬라이싱 \n",
    "# data[행,열]\n",
    "d = np.arange(12).reshape(3,4)\n",
    "print(d,d.shape)  # (3, 4)\n",
    "\n",
    "# indexing\n",
    "print(d[0][0])  # 0\n",
    "print(d[0,0])   # 0\n",
    "print(d[2,1])   # 9\n",
    "\n",
    "# slicing\n",
    "print(d[0])    # [0 1 2 3]\n",
    "print(d[0,:])  # [0 1 2 3]\n",
    "print(d[:,:-1])  # 마지막 열을 제외 ,(3,3)\n",
    "print(d[::2,::2]) # (2,2)\n",
    "\n",
    "d[0] = 20        # 0번 행의 모든 요소를 20으로 변경\n",
    "print(d)\n",
    "\n",
    "d[::2,::3] = 30  # 슬라이싱 된 요소 전체를 한번에 변경할 수 있다\n",
    "print(d[::2,::3])\n",
    "print(d)\n",
    "\n",
    "d[:,:] = -1      # 전체 요소를 한번에 변경할 수 있다\n",
    "print(d)"
   ]
  },
  {
   "cell_type": "code",
   "execution_count": 164,
   "metadata": {},
   "outputs": [
    {
     "name": "stdout",
     "output_type": "stream",
     "text": [
      "[[[ 0  1  2]\n",
      "  [ 3  4  5]]\n",
      "\n",
      " [[ 6  7  8]\n",
      "  [ 9 10 11]]] (2, 2, 3)\n",
      "0\n",
      "0\n",
      "5\n",
      "------------------------------\n",
      "[[[0 1]]\n",
      "\n",
      " [[6 7]]]\n",
      "------------------------------\n",
      "[[[ 4  5]]\n",
      "\n",
      " [[10 11]]]\n",
      "------------------------------\n",
      "[[ 2  5]\n",
      " [ 8 11]]\n",
      "------------------------------\n",
      "[ 5 11]\n",
      "11\n"
     ]
    }
   ],
   "source": [
    "# 3차원 배열의 인덱싱과 슬라이싱\n",
    "# data[면,행,열]\n",
    "d = np.arange(12).reshape(2,2,3)\n",
    "print(d,d.shape)\n",
    "\n",
    "# indexing\n",
    "print(d[0][0][0])  # old style\n",
    "print(d[0,0,0])    # 0\n",
    "print(d[0,1,2])    # 5 \n",
    "\n",
    "# slicing\n",
    "print('-'*30)\n",
    "print(d[:,:-1,:-1])  # (2, 1, 2)\n",
    "print('-'*30)\n",
    "print(d[:,1:,1:])    # (2, 1, 2)\n",
    "print('-'*30)\n",
    "print(d[:,:,-1])     # (2, 2)\n",
    "print('-'*30)\n",
    "print(d[:,-1,-1])    # (2,)\n",
    "\n",
    "print(d[-1,-1,-1])    # 11, scalar"
   ]
  },
  {
   "cell_type": "markdown",
   "metadata": {},
   "source": [
    "### 불린 인덱싱 : 조건식을 사용한 인덱싱, 조건 검색 필터를 사용한 추출(매우 중요)"
   ]
  },
  {
   "cell_type": "code",
   "execution_count": 186,
   "metadata": {},
   "outputs": [
    {
     "name": "stdout",
     "output_type": "stream",
     "text": [
      "[1 2 3 4 5 6]\n",
      "[False False  True  True  True  True]\n",
      "[3 4 5 6]\n",
      "[ True False  True False  True  True]\n",
      "[1 3 5 6]\n"
     ]
    }
   ],
   "source": [
    "a = np.array([1,2,3,4,5,6])\n",
    "print(a)\n",
    "\n",
    "print( a > 2)\n",
    "print(a[a>2])\n",
    "# print(a[[False, False, True, True, True, True]])\n",
    "\n",
    "boolean_index = np.array([True,False,True,False,True,True])\n",
    "print(boolean_index)\n",
    "print(a[boolean_index])\n",
    "\n",
    "\n"
   ]
  },
  {
   "cell_type": "code",
   "execution_count": null,
   "metadata": {},
   "outputs": [],
   "source": []
  }
 ],
 "metadata": {
  "kernelspec": {
   "display_name": "Python 3",
   "language": "python",
   "name": "python3"
  },
  "language_info": {
   "codemirror_mode": {
    "name": "ipython",
    "version": 3
   },
   "file_extension": ".py",
   "mimetype": "text/x-python",
   "name": "python",
   "nbconvert_exporter": "python",
   "pygments_lexer": "ipython3",
   "version": "3.7.6"
  }
 },
 "nbformat": 4,
 "nbformat_minor": 4
}
