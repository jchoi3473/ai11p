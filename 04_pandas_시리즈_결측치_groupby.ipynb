{
 "cells": [
  {
   "cell_type": "markdown",
   "metadata": {},
   "source": [
    "### Series객체"
   ]
  },
  {
   "cell_type": "code",
   "execution_count": 1,
   "metadata": {},
   "outputs": [
    {
     "data": {
      "text/html": [
       "<div>\n",
       "<style scoped>\n",
       "    .dataframe tbody tr th:only-of-type {\n",
       "        vertical-align: middle;\n",
       "    }\n",
       "\n",
       "    .dataframe tbody tr th {\n",
       "        vertical-align: top;\n",
       "    }\n",
       "\n",
       "    .dataframe thead th {\n",
       "        text-align: right;\n",
       "    }\n",
       "</style>\n",
       "<table border=\"1\" class=\"dataframe\">\n",
       "  <thead>\n",
       "    <tr style=\"text-align: right;\">\n",
       "      <th></th>\n",
       "      <th>ename</th>\n",
       "      <th>deptname</th>\n",
       "      <th>addr</th>\n",
       "      <th>phone</th>\n",
       "    </tr>\n",
       "  </thead>\n",
       "  <tbody>\n",
       "    <tr>\n",
       "      <th>0</th>\n",
       "      <td>kim</td>\n",
       "      <td>관리직</td>\n",
       "      <td>서울시</td>\n",
       "      <td>010-1111-1111</td>\n",
       "    </tr>\n",
       "    <tr>\n",
       "      <th>1</th>\n",
       "      <td>park</td>\n",
       "      <td>관리직</td>\n",
       "      <td>부산시</td>\n",
       "      <td>010-2222-2222</td>\n",
       "    </tr>\n",
       "    <tr>\n",
       "      <th>2</th>\n",
       "      <td>lee</td>\n",
       "      <td>영업직</td>\n",
       "      <td>광주시</td>\n",
       "      <td>010-3333-3333</td>\n",
       "    </tr>\n",
       "    <tr>\n",
       "      <th>3</th>\n",
       "      <td>min</td>\n",
       "      <td>영업직</td>\n",
       "      <td>광주시</td>\n",
       "      <td>010-4444-4444</td>\n",
       "    </tr>\n",
       "    <tr>\n",
       "      <th>4</th>\n",
       "      <td>song</td>\n",
       "      <td>개발직</td>\n",
       "      <td>광주시</td>\n",
       "      <td>010-5555-5555</td>\n",
       "    </tr>\n",
       "  </tbody>\n",
       "</table>\n",
       "</div>"
      ],
      "text/plain": [
       "  ename deptname addr          phone\n",
       "0   kim      관리직  서울시  010-1111-1111\n",
       "1  park      관리직  부산시  010-2222-2222\n",
       "2   lee      영업직  광주시  010-3333-3333\n",
       "3   min      영업직  광주시  010-4444-4444\n",
       "4  song      개발직  광주시  010-5555-5555"
      ]
     },
     "execution_count": 1,
     "metadata": {},
     "output_type": "execute_result"
    }
   ],
   "source": [
    "import pandas as pd\n",
    "import numpy as np\n",
    "\n",
    "m2 = pd.read_csv('employee.csv')\n",
    "m2"
   ]
  },
  {
   "cell_type": "code",
   "execution_count": 2,
   "metadata": {},
   "outputs": [
    {
     "data": {
      "text/plain": [
       "0     kim\n",
       "1    park\n",
       "2     lee\n",
       "3     min\n",
       "4    song\n",
       "Name: ename, dtype: object"
      ]
     },
     "execution_count": 2,
     "metadata": {},
     "output_type": "execute_result"
    }
   ],
   "source": [
    "# 컬럼접근\n",
    "sr = m2['ename']   # Series 객체\n",
    "sr"
   ]
  },
  {
   "cell_type": "code",
   "execution_count": 17,
   "metadata": {},
   "outputs": [
    {
     "name": "stdout",
     "output_type": "stream",
     "text": [
      "0     True\n",
      "1     True\n",
      "2    False\n",
      "3    False\n",
      "4    False\n",
      "Name: ename, dtype: bool\n",
      "<class 'pandas.core.series.Series'>\n"
     ]
    },
    {
     "data": {
      "text/html": [
       "<div>\n",
       "<style scoped>\n",
       "    .dataframe tbody tr th:only-of-type {\n",
       "        vertical-align: middle;\n",
       "    }\n",
       "\n",
       "    .dataframe tbody tr th {\n",
       "        vertical-align: top;\n",
       "    }\n",
       "\n",
       "    .dataframe thead th {\n",
       "        text-align: right;\n",
       "    }\n",
       "</style>\n",
       "<table border=\"1\" class=\"dataframe\">\n",
       "  <thead>\n",
       "    <tr style=\"text-align: right;\">\n",
       "      <th></th>\n",
       "      <th>ename</th>\n",
       "      <th>deptname</th>\n",
       "      <th>addr</th>\n",
       "      <th>phone</th>\n",
       "    </tr>\n",
       "  </thead>\n",
       "  <tbody>\n",
       "    <tr>\n",
       "      <th>0</th>\n",
       "      <td>kim</td>\n",
       "      <td>관리직</td>\n",
       "      <td>서울시</td>\n",
       "      <td>010-1111-1111</td>\n",
       "    </tr>\n",
       "    <tr>\n",
       "      <th>1</th>\n",
       "      <td>park</td>\n",
       "      <td>관리직</td>\n",
       "      <td>부산시</td>\n",
       "      <td>010-2222-2222</td>\n",
       "    </tr>\n",
       "  </tbody>\n",
       "</table>\n",
       "</div>"
      ],
      "text/plain": [
       "  ename deptname addr          phone\n",
       "0   kim      관리직  서울시  010-1111-1111\n",
       "1  park      관리직  부산시  010-2222-2222"
      ]
     },
     "execution_count": 17,
     "metadata": {},
     "output_type": "execute_result"
    }
   ],
   "source": [
    "# str.contains() 메서드를 사용하여 문자열의 조건 검색, 행을 추출\n",
    "sr = m2['ename'].str.contains('k') # 'ename'컬럼의 데이터가 문자'k'를 포함하고 \n",
    "                                   # 있는가? True/False값의 Series 객체로 반환\n",
    "print(sr)    \n",
    "print(type(sr)) # Series\n",
    "m2[sr]     #  m2[[True,True,False,False,False]]"
   ]
  },
  {
   "cell_type": "code",
   "execution_count": 13,
   "metadata": {},
   "outputs": [
    {
     "data": {
      "text/html": [
       "<div>\n",
       "<style scoped>\n",
       "    .dataframe tbody tr th:only-of-type {\n",
       "        vertical-align: middle;\n",
       "    }\n",
       "\n",
       "    .dataframe tbody tr th {\n",
       "        vertical-align: top;\n",
       "    }\n",
       "\n",
       "    .dataframe thead th {\n",
       "        text-align: right;\n",
       "    }\n",
       "</style>\n",
       "<table border=\"1\" class=\"dataframe\">\n",
       "  <thead>\n",
       "    <tr style=\"text-align: right;\">\n",
       "      <th></th>\n",
       "      <th>ename</th>\n",
       "      <th>deptname</th>\n",
       "      <th>addr</th>\n",
       "      <th>phone</th>\n",
       "    </tr>\n",
       "  </thead>\n",
       "  <tbody>\n",
       "    <tr>\n",
       "      <th>2</th>\n",
       "      <td>lee</td>\n",
       "      <td>영업직</td>\n",
       "      <td>광주시</td>\n",
       "      <td>010-3333-3333</td>\n",
       "    </tr>\n",
       "    <tr>\n",
       "      <th>3</th>\n",
       "      <td>min</td>\n",
       "      <td>영업직</td>\n",
       "      <td>광주시</td>\n",
       "      <td>010-4444-4444</td>\n",
       "    </tr>\n",
       "  </tbody>\n",
       "</table>\n",
       "</div>"
      ],
      "text/plain": [
       "  ename deptname addr          phone\n",
       "2   lee      영업직  광주시  010-3333-3333\n",
       "3   min      영업직  광주시  010-4444-4444"
      ]
     },
     "execution_count": 13,
     "metadata": {},
     "output_type": "execute_result"
    }
   ],
   "source": [
    "# 'deptname' 이 '영업직'인 행만 추출\n",
    "m2[m2['deptname'].str.contains('영업직')]"
   ]
  },
  {
   "cell_type": "code",
   "execution_count": 14,
   "metadata": {},
   "outputs": [
    {
     "data": {
      "text/html": [
       "<div>\n",
       "<style scoped>\n",
       "    .dataframe tbody tr th:only-of-type {\n",
       "        vertical-align: middle;\n",
       "    }\n",
       "\n",
       "    .dataframe tbody tr th {\n",
       "        vertical-align: top;\n",
       "    }\n",
       "\n",
       "    .dataframe thead th {\n",
       "        text-align: right;\n",
       "    }\n",
       "</style>\n",
       "<table border=\"1\" class=\"dataframe\">\n",
       "  <thead>\n",
       "    <tr style=\"text-align: right;\">\n",
       "      <th></th>\n",
       "      <th>ename</th>\n",
       "      <th>deptname</th>\n",
       "      <th>addr</th>\n",
       "      <th>phone</th>\n",
       "    </tr>\n",
       "  </thead>\n",
       "  <tbody>\n",
       "    <tr>\n",
       "      <th>2</th>\n",
       "      <td>lee</td>\n",
       "      <td>영업직</td>\n",
       "      <td>광주시</td>\n",
       "      <td>010-3333-3333</td>\n",
       "    </tr>\n",
       "    <tr>\n",
       "      <th>3</th>\n",
       "      <td>min</td>\n",
       "      <td>영업직</td>\n",
       "      <td>광주시</td>\n",
       "      <td>010-4444-4444</td>\n",
       "    </tr>\n",
       "    <tr>\n",
       "      <th>4</th>\n",
       "      <td>song</td>\n",
       "      <td>개발직</td>\n",
       "      <td>광주시</td>\n",
       "      <td>010-5555-5555</td>\n",
       "    </tr>\n",
       "  </tbody>\n",
       "</table>\n",
       "</div>"
      ],
      "text/plain": [
       "  ename deptname addr          phone\n",
       "2   lee      영업직  광주시  010-3333-3333\n",
       "3   min      영업직  광주시  010-4444-4444\n",
       "4  song      개발직  광주시  010-5555-5555"
      ]
     },
     "execution_count": 14,
     "metadata": {},
     "output_type": "execute_result"
    }
   ],
   "source": [
    "# 'addr' 가 '광주시'인 행만 추출\n",
    "m2[m2['addr'].str.contains('광주시')]"
   ]
  },
  {
   "cell_type": "code",
   "execution_count": 15,
   "metadata": {},
   "outputs": [
    {
     "data": {
      "text/html": [
       "<div>\n",
       "<style scoped>\n",
       "    .dataframe tbody tr th:only-of-type {\n",
       "        vertical-align: middle;\n",
       "    }\n",
       "\n",
       "    .dataframe tbody tr th {\n",
       "        vertical-align: top;\n",
       "    }\n",
       "\n",
       "    .dataframe thead th {\n",
       "        text-align: right;\n",
       "    }\n",
       "</style>\n",
       "<table border=\"1\" class=\"dataframe\">\n",
       "  <thead>\n",
       "    <tr style=\"text-align: right;\">\n",
       "      <th></th>\n",
       "      <th>ename</th>\n",
       "      <th>deptname</th>\n",
       "      <th>addr</th>\n",
       "      <th>phone</th>\n",
       "    </tr>\n",
       "  </thead>\n",
       "  <tbody>\n",
       "    <tr>\n",
       "      <th>2</th>\n",
       "      <td>lee</td>\n",
       "      <td>영업직</td>\n",
       "      <td>광주시</td>\n",
       "      <td>010-3333-3333</td>\n",
       "    </tr>\n",
       "    <tr>\n",
       "      <th>3</th>\n",
       "      <td>min</td>\n",
       "      <td>영업직</td>\n",
       "      <td>광주시</td>\n",
       "      <td>010-4444-4444</td>\n",
       "    </tr>\n",
       "  </tbody>\n",
       "</table>\n",
       "</div>"
      ],
      "text/plain": [
       "  ename deptname addr          phone\n",
       "2   lee      영업직  광주시  010-3333-3333\n",
       "3   min      영업직  광주시  010-4444-4444"
      ]
     },
     "execution_count": 15,
     "metadata": {},
     "output_type": "execute_result"
    }
   ],
   "source": [
    "# 조건식 2개 사용\n",
    "# 'deptname' 이 '영업직'이고 'addr' 가 '광주시'인 행만 추출\n",
    "m2[m2['deptname'].str.contains('영업직') & m2['addr'].str.contains('광주시')]"
   ]
  },
  {
   "cell_type": "markdown",
   "metadata": {},
   "source": [
    "### Series 객체의 통계 메서드"
   ]
  },
  {
   "cell_type": "code",
   "execution_count": 29,
   "metadata": {},
   "outputs": [
    {
     "data": {
      "text/plain": [
       "count     5.000000\n",
       "mean     30.000000\n",
       "std      15.811388\n",
       "min      10.000000\n",
       "25%      20.000000\n",
       "50%      30.000000\n",
       "75%      40.000000\n",
       "max      50.000000\n",
       "Name: 영어, dtype: float64"
      ]
     },
     "execution_count": 29,
     "metadata": {},
     "output_type": "execute_result"
    }
   ],
   "source": [
    "score_table = { '영어': [10,20,30,40,50],\n",
    "                '수학': [70,80,90,30,20]}\n",
    "df = pd.DataFrame(score_table)\n",
    "sr = df['영어']  # Series 객체\n",
    "sr.sum()\n",
    "sr.max()\n",
    "sr.min()\n",
    "sr.mean()\n",
    "sr.median()\n",
    "sr.std()\n",
    "sr.var()\n",
    "sr.count()\n",
    "sr.describe()"
   ]
  },
  {
   "cell_type": "markdown",
   "metadata": {},
   "source": [
    "### 누락된 데이터(결측치,NaN,NaT) 다루기"
   ]
  },
  {
   "cell_type": "code",
   "execution_count": 58,
   "metadata": {},
   "outputs": [
    {
     "name": "stdout",
     "output_type": "stream",
     "text": [
      "       Net primary school enrolment ratio male (%)\n",
      "count                                   179.000000\n",
      "mean                                     85.698324\n",
      "std                                      15.451212\n",
      "min                                      11.000000\n",
      "25%                                      79.500000\n",
      "50%                                      90.000000\n",
      "75%                                      96.000000\n",
      "max                                     100.000000\n",
      "       Net primary school enrolment ratio male (%)\n",
      "count                                   202.000000\n",
      "mean                                     75.940594\n",
      "std                                      30.921123\n",
      "min                                       0.000000\n",
      "25%                                      73.000000\n",
      "50%                                      89.500000\n",
      "75%                                      96.000000\n",
      "max                                     100.000000\n",
      "       Net primary school enrolment ratio male (%)\n",
      "count                                   202.000000\n",
      "mean                                     85.698324\n",
      "std                                      14.540338\n",
      "min                                      11.000000\n",
      "25%                                      84.000000\n",
      "50%                                      89.500000\n",
      "75%                                      96.000000\n",
      "max                                     100.000000\n"
     ]
    }
   ],
   "source": [
    "df = pd.read_csv('WHO_first9cols.csv')\n",
    "len(df) - df.count()  # 결측치의 갯수:전체데이터수 - 결측치를 제외한 데이터의 갯수\n",
    "\n",
    "df2 = df[['Country',df.columns[-2]]] \n",
    "df2\n",
    "\n",
    "# pd.isnull().pd.notnull()\n",
    "pd.isnull(df2)    # 결측치는 True로 반환, 나머지는 False로 반환\n",
    "pd.notnull(df2)   # 결측치는 False로 반환, 나머지는 True로 반환\n",
    "\n",
    "pd.isnull(df2).sum()  # 23:-2번 컬럼의 결측치의 갯수\n",
    "pd.isnull(df).sum()   # 전체 컬럼의 결측치의 갯수\n",
    "\n",
    "# fillna() : 결측치를 특정 값으로 채움\n",
    "# 결측치를 0으로 채움 : 평균,표준 편차에 영향\n",
    "df3 = df2.fillna(0)\n",
    "pd.isnull(df3).sum()  # 0  , 결측치의 갯수는 0\n",
    "\n",
    "# replace(a,b)\n",
    "df4 = df2.replace(np.nan,0)  # fillna(0)와 동일한 결과\n",
    "\n",
    "sr = df2[df2.columns[-1]].replace(np.nan,0)  # 한개의 컬럼만 결측치를 제거\n",
    "sr\n",
    "\n",
    "# 결측치를 평균으로 채움 : 평균에 영향이 없음\n",
    "df5 = df2.fillna(df2.mean())\n",
    "df5\n",
    "\n",
    "# df2.mean()  #  85.698324\n",
    "print(df2.describe())  # 결측치 제거전\n",
    "print(df4.describe())  # 평균값이 다름\n",
    "print(df5.describe())  # 평균값이 동일"
   ]
  },
  {
   "cell_type": "markdown",
   "metadata": {},
   "source": [
    "### Series 객체의 index 사용 및 결측치 제어"
   ]
  },
  {
   "cell_type": "code",
   "execution_count": 64,
   "metadata": {},
   "outputs": [
    {
     "name": "stdout",
     "output_type": "stream",
     "text": [
      "tv       10\n",
      "vtr      20\n",
      "phone    30\n",
      "dtype: int64\n",
      "Index(['tv', 'vtr', 'phone'], dtype='object')\n"
     ]
    },
    {
     "data": {
      "text/plain": [
       "tv     10\n",
       "vtr    20\n",
       "dtype: int64"
      ]
     },
     "execution_count": 64,
     "metadata": {},
     "output_type": "execute_result"
    }
   ],
   "source": [
    "index_table = ['tv','vtr','phone']\n",
    "sr = pd.Series([10,20,30],index=index_table)\n",
    "print(sr)\n",
    "print(sr.index)\n",
    "\n",
    "r = sr.index.str.contains('v')  # index에서 문자열을 검출\n",
    "sr[r]"
   ]
  },
  {
   "cell_type": "code",
   "execution_count": 77,
   "metadata": {},
   "outputs": [
    {
     "name": "stdout",
     "output_type": "stream",
     "text": [
      "tv          10.0\n",
      "vtr         20.0\n",
      "phone       30.0\n",
      "audio       40.0\n",
      "iron        50.0\n",
      "notebook    60.0\n",
      "aircon       NaN\n",
      "dtype: float64\n",
      "35.0\n",
      "tv          10.0\n",
      "vtr         20.0\n",
      "phone       30.0\n",
      "audio       40.0\n",
      "iron        50.0\n",
      "notebook    60.0\n",
      "aircon       0.0\n",
      "dtype: float64\n",
      "30.0\n",
      "tv          10.0\n",
      "vtr         20.0\n",
      "phone       30.0\n",
      "audio       40.0\n",
      "iron        50.0\n",
      "notebook    60.0\n",
      "aircon      35.0\n",
      "dtype: float64\n",
      "35.0\n"
     ]
    }
   ],
   "source": [
    "# Series 객체의 요소의 추가\n",
    "sr2 = sr.append(pd.Series([40,50,60],index=['audio','iron','notebook']))\n",
    "sr2\n",
    "\n",
    "# 테스트를 위한 결측치를 추가\n",
    "sr3 = sr2.append(pd.Series([np.nan],index=['aircon']))\n",
    "print(sr3)\n",
    "print(sr3.mean())  # 35, NaN 을 제외하고 평균을 구함\n",
    "\n",
    "# a = np.array([np.nan,1,2,3]) # ndarray는 nan관 연산하면 결과값이 nan이다\n",
    "# a.mean()  # nan\n",
    "\n",
    "# 결측치를 처리(제거)\n",
    "sr4 = sr3.fillna(0)\n",
    "print(sr4)\n",
    "print(sr4.mean()) # 30,  0으로 채우면 평균값이 감소\n",
    "\n",
    "sr5 = sr3.fillna(sr3.mean())\n",
    "print(sr5)\n",
    "print(sr5.mean()) # 35,  평균으로 채우면 평균값 변동이 없음"
   ]
  },
  {
   "cell_type": "markdown",
   "metadata": {},
   "source": [
    "### groupby()"
   ]
  },
  {
   "cell_type": "code",
   "execution_count": 86,
   "metadata": {
    "scrolled": true
   },
   "outputs": [
    {
     "data": {
      "text/html": [
       "<div>\n",
       "<style scoped>\n",
       "    .dataframe tbody tr th:only-of-type {\n",
       "        vertical-align: middle;\n",
       "    }\n",
       "\n",
       "    .dataframe tbody tr th {\n",
       "        vertical-align: top;\n",
       "    }\n",
       "\n",
       "    .dataframe thead th {\n",
       "        text-align: right;\n",
       "    }\n",
       "</style>\n",
       "<table border=\"1\" class=\"dataframe\">\n",
       "  <thead>\n",
       "    <tr style=\"text-align: right;\">\n",
       "      <th></th>\n",
       "      <th>Weather</th>\n",
       "      <th>Food</th>\n",
       "      <th>Price</th>\n",
       "      <th>Number</th>\n",
       "    </tr>\n",
       "  </thead>\n",
       "  <tbody>\n",
       "    <tr>\n",
       "      <th>0</th>\n",
       "      <td>cold</td>\n",
       "      <td>soup</td>\n",
       "      <td>3.745401</td>\n",
       "      <td>8</td>\n",
       "    </tr>\n",
       "    <tr>\n",
       "      <th>1</th>\n",
       "      <td>hot</td>\n",
       "      <td>soup</td>\n",
       "      <td>9.507143</td>\n",
       "      <td>5</td>\n",
       "    </tr>\n",
       "    <tr>\n",
       "      <th>2</th>\n",
       "      <td>cold</td>\n",
       "      <td>icecream</td>\n",
       "      <td>7.319939</td>\n",
       "      <td>4</td>\n",
       "    </tr>\n",
       "    <tr>\n",
       "      <th>3</th>\n",
       "      <td>hot</td>\n",
       "      <td>chocolate</td>\n",
       "      <td>5.986585</td>\n",
       "      <td>8</td>\n",
       "    </tr>\n",
       "    <tr>\n",
       "      <th>4</th>\n",
       "      <td>cold</td>\n",
       "      <td>icecream</td>\n",
       "      <td>1.560186</td>\n",
       "      <td>8</td>\n",
       "    </tr>\n",
       "    <tr>\n",
       "      <th>5</th>\n",
       "      <td>hot</td>\n",
       "      <td>icecream</td>\n",
       "      <td>1.559945</td>\n",
       "      <td>3</td>\n",
       "    </tr>\n",
       "    <tr>\n",
       "      <th>6</th>\n",
       "      <td>cold</td>\n",
       "      <td>soup</td>\n",
       "      <td>0.580836</td>\n",
       "      <td>6</td>\n",
       "    </tr>\n",
       "  </tbody>\n",
       "</table>\n",
       "</div>"
      ],
      "text/plain": [
       "  Weather       Food     Price  Number\n",
       "0    cold       soup  3.745401       8\n",
       "1     hot       soup  9.507143       5\n",
       "2    cold   icecream  7.319939       4\n",
       "3     hot  chocolate  5.986585       8\n",
       "4    cold   icecream  1.560186       8\n",
       "5     hot   icecream  1.559945       3\n",
       "6    cold       soup  0.580836       6"
      ]
     },
     "execution_count": 86,
     "metadata": {},
     "output_type": "execute_result"
    }
   ],
   "source": [
    "# import numpy as np\n",
    "# np.random.seed(55)\n",
    "# np.random.rand(10,2)\n",
    "\n",
    "from numpy.random import seed\n",
    "from numpy.random import rand\n",
    "from numpy.random import randint\n",
    "seed(42)\n",
    "\n",
    "df = pd.DataFrame({'Weather' : ['cold', 'hot', 'cold', 'hot', 'cold', 'hot', 'cold'],\n",
    "                   'Food' : ['soup', 'soup', 'icecream', 'chocolate', 'icecream', 'icecream', 'soup'],\n",
    "                   'Price' : 10 * rand(7),       # 0~10 사이,7개의 난수, 실수\n",
    "                   'Number' : randint(1, 9, 7)}) # 1~9 사이,7개의 난수, 정수\n",
    "df"
   ]
  },
  {
   "cell_type": "code",
   "execution_count": 106,
   "metadata": {},
   "outputs": [
    {
     "name": "stdout",
     "output_type": "stream",
     "text": [
      "<pandas.core.groupby.generic.DataFrameGroupBy object at 0x0000022276A27CC8>\n",
      "1 cold \n",
      "   Weather      Food     Price  Number\n",
      "0    cold      soup  3.745401       8\n",
      "2    cold  icecream  7.319939       4\n",
      "4    cold  icecream  1.560186       8\n",
      "6    cold      soup  0.580836       6\n",
      "<class 'pandas.core.frame.DataFrame'>\n",
      "--------------------------------------------------\n",
      "2 hot \n",
      "   Weather       Food     Price  Number\n",
      "1     hot       soup  9.507143       5\n",
      "3     hot  chocolate  5.986585       8\n",
      "5     hot   icecream  1.559945       3\n",
      "<class 'pandas.core.frame.DataFrame'>\n",
      "--------------------------------------------------\n",
      "         Food     Price  Number\n",
      "Weather                        \n",
      "cold     soup  3.745401       8\n",
      "hot      soup  9.507143       5\n",
      "--------------------------------------------------\n",
      "             Food     Price  Number\n",
      "Weather                            \n",
      "cold         soup  0.580836       6\n",
      "hot      icecream  1.559945       3\n",
      "--------------------------------------------------\n",
      "            Price    Number\n",
      "Weather                    \n",
      "cold     3.301591  6.500000\n",
      "hot      5.684558  5.333333\n",
      "--------------------------------------------------\n",
      "         Food  Price  Number\n",
      "Weather                     \n",
      "cold        4      4       4\n",
      "hot         3      3       3\n",
      "--------------------------------------------------\n",
      "        Price                                                              \\\n",
      "        count      mean       std       min       25%       50%       75%   \n",
      "Weather                                                                     \n",
      "cold      4.0  3.301591  2.987702  0.580836  1.315349  2.652794  4.639036   \n",
      "hot       3.0  5.684558  3.982198  1.559945  3.773265  5.986585  7.746864   \n",
      "\n",
      "                  Number                                               \n",
      "              max  count      mean       std  min  25%  50%  75%  max  \n",
      "Weather                                                                \n",
      "cold     7.319939    4.0  6.500000  1.914854  4.0  5.5  7.0  8.0  8.0  \n",
      "hot      9.507143    3.0  5.333333  2.516611  3.0  4.0  5.0  6.5  8.0  \n",
      "--------------------------------------------------\n"
     ]
    }
   ],
   "source": [
    "weather_group = df.groupby('Weather')  \n",
    "print(weather_group) # DataFrameGroupBy 객체\n",
    "\n",
    "i = 0\n",
    "for name,group in weather_group: # 2개\n",
    "    i += 1\n",
    "    print(i,name,'\\n',group)\n",
    "    print(type(group))   # DataFrame\n",
    "    print('-'*50)\n",
    "\n",
    "print(weather_group.first()) # 각 그룹(cold와 hot)의 첫번째 행\n",
    "print('-'*50)\n",
    "print(weather_group.last())  # 각 그룹(cold와 hot)의 마지막 행\n",
    "print('-'*50)\n",
    "print(weather_group.mean())  # 각 그룹(cold와 hot)의 평균\n",
    "print('-'*50)\n",
    "print(weather_group.count())  # 각 그룹(cold와 hot)의  총 갯수\n",
    "print('-'*50)\n",
    "print(weather_group.describe())  # 각 그룹(cold와 hot)의 통계 요약\n",
    "print('-'*50)"
   ]
  },
  {
   "cell_type": "code",
   "execution_count": 132,
   "metadata": {},
   "outputs": [
    {
     "name": "stdout",
     "output_type": "stream",
     "text": [
      "<pandas.core.groupby.generic.DataFrameGroupBy object at 0x00000222764433C8>\n",
      "{('cold', 'icecream'): Int64Index([2, 4], dtype='int64'), ('cold', 'soup'): Int64Index([0, 6], dtype='int64'), ('hot', 'chocolate'): Int64Index([3], dtype='int64'), ('hot', 'icecream'): Int64Index([5], dtype='int64'), ('hot', 'soup'): Int64Index([1], dtype='int64')}\n"
     ]
    },
    {
     "data": {
      "text/html": [
       "<div>\n",
       "<style scoped>\n",
       "    .dataframe tbody tr th:only-of-type {\n",
       "        vertical-align: middle;\n",
       "    }\n",
       "\n",
       "    .dataframe tbody tr th {\n",
       "        vertical-align: top;\n",
       "    }\n",
       "\n",
       "    .dataframe thead tr th {\n",
       "        text-align: left;\n",
       "    }\n",
       "\n",
       "    .dataframe thead tr:last-of-type th {\n",
       "        text-align: right;\n",
       "    }\n",
       "</style>\n",
       "<table border=\"1\" class=\"dataframe\">\n",
       "  <thead>\n",
       "    <tr>\n",
       "      <th></th>\n",
       "      <th></th>\n",
       "      <th colspan=\"4\" halign=\"left\">Price</th>\n",
       "      <th colspan=\"4\" halign=\"left\">Number</th>\n",
       "    </tr>\n",
       "    <tr>\n",
       "      <th></th>\n",
       "      <th></th>\n",
       "      <th>mean</th>\n",
       "      <th>sum</th>\n",
       "      <th>amin</th>\n",
       "      <th>amax</th>\n",
       "      <th>mean</th>\n",
       "      <th>sum</th>\n",
       "      <th>amin</th>\n",
       "      <th>amax</th>\n",
       "    </tr>\n",
       "    <tr>\n",
       "      <th>Weather</th>\n",
       "      <th>Food</th>\n",
       "      <th></th>\n",
       "      <th></th>\n",
       "      <th></th>\n",
       "      <th></th>\n",
       "      <th></th>\n",
       "      <th></th>\n",
       "      <th></th>\n",
       "      <th></th>\n",
       "    </tr>\n",
       "  </thead>\n",
       "  <tbody>\n",
       "    <tr>\n",
       "      <th rowspan=\"2\" valign=\"top\">cold</th>\n",
       "      <th>icecream</th>\n",
       "      <td>4.440063</td>\n",
       "      <td>8.880126</td>\n",
       "      <td>1.560186</td>\n",
       "      <td>7.319939</td>\n",
       "      <td>6</td>\n",
       "      <td>12</td>\n",
       "      <td>4</td>\n",
       "      <td>8</td>\n",
       "    </tr>\n",
       "    <tr>\n",
       "      <th>soup</th>\n",
       "      <td>2.163119</td>\n",
       "      <td>4.326237</td>\n",
       "      <td>0.580836</td>\n",
       "      <td>3.745401</td>\n",
       "      <td>7</td>\n",
       "      <td>14</td>\n",
       "      <td>6</td>\n",
       "      <td>8</td>\n",
       "    </tr>\n",
       "    <tr>\n",
       "      <th rowspan=\"3\" valign=\"top\">hot</th>\n",
       "      <th>chocolate</th>\n",
       "      <td>5.986585</td>\n",
       "      <td>5.986585</td>\n",
       "      <td>5.986585</td>\n",
       "      <td>5.986585</td>\n",
       "      <td>8</td>\n",
       "      <td>8</td>\n",
       "      <td>8</td>\n",
       "      <td>8</td>\n",
       "    </tr>\n",
       "    <tr>\n",
       "      <th>icecream</th>\n",
       "      <td>1.559945</td>\n",
       "      <td>1.559945</td>\n",
       "      <td>1.559945</td>\n",
       "      <td>1.559945</td>\n",
       "      <td>3</td>\n",
       "      <td>3</td>\n",
       "      <td>3</td>\n",
       "      <td>3</td>\n",
       "    </tr>\n",
       "    <tr>\n",
       "      <th>soup</th>\n",
       "      <td>9.507143</td>\n",
       "      <td>9.507143</td>\n",
       "      <td>9.507143</td>\n",
       "      <td>9.507143</td>\n",
       "      <td>5</td>\n",
       "      <td>5</td>\n",
       "      <td>5</td>\n",
       "      <td>5</td>\n",
       "    </tr>\n",
       "  </tbody>\n",
       "</table>\n",
       "</div>"
      ],
      "text/plain": [
       "                      Price                               Number              \n",
       "                       mean       sum      amin      amax   mean sum amin amax\n",
       "Weather Food                                                                  \n",
       "cold    icecream   4.440063  8.880126  1.560186  7.319939      6  12    4    8\n",
       "        soup       2.163119  4.326237  0.580836  3.745401      7  14    6    8\n",
       "hot     chocolate  5.986585  5.986585  5.986585  5.986585      8   8    8    8\n",
       "        icecream   1.559945  1.559945  1.559945  1.559945      3   3    3    3\n",
       "        soup       9.507143  9.507143  9.507143  9.507143      5   5    5    5"
      ]
     },
     "execution_count": 132,
     "metadata": {},
     "output_type": "execute_result"
    }
   ],
   "source": [
    "wf_group = df.groupby(['Weather','Food']) \n",
    "print(wf_group) # DataFrameGroupBy\n",
    "print(wf_group.groups) # dict\n",
    "\n",
    "wf_group.agg([np.mean,np.sum,np.min,np.max])"
   ]
  },
  {
   "cell_type": "code",
   "execution_count": 133,
   "metadata": {},
   "outputs": [
    {
     "name": "stdout",
     "output_type": "stream",
     "text": [
      "<class 'pandas.core.frame.DataFrame'>\n",
      "MultiIndex([('cold',  'icecream'),\n",
      "            ('cold',      'soup'),\n",
      "            ( 'hot', 'chocolate'),\n",
      "            ( 'hot',  'icecream'),\n",
      "            ( 'hot',      'soup')],\n",
      "           names=['Weather', 'Food'])\n",
      "MultiIndex([( 'Price', 'mean'),\n",
      "            ( 'Price',  'sum'),\n",
      "            ( 'Price', 'amin'),\n",
      "            ( 'Price', 'amax'),\n",
      "            ('Number', 'mean'),\n",
      "            ('Number',  'sum'),\n",
      "            ('Number', 'amin'),\n",
      "            ('Number', 'amax')],\n",
      "           )\n"
     ]
    },
    {
     "data": {
      "text/html": [
       "<div>\n",
       "<style scoped>\n",
       "    .dataframe tbody tr th:only-of-type {\n",
       "        vertical-align: middle;\n",
       "    }\n",
       "\n",
       "    .dataframe tbody tr th {\n",
       "        vertical-align: top;\n",
       "    }\n",
       "\n",
       "    .dataframe thead tr th {\n",
       "        text-align: left;\n",
       "    }\n",
       "\n",
       "    .dataframe thead tr:last-of-type th {\n",
       "        text-align: right;\n",
       "    }\n",
       "</style>\n",
       "<table border=\"1\" class=\"dataframe\">\n",
       "  <thead>\n",
       "    <tr>\n",
       "      <th></th>\n",
       "      <th></th>\n",
       "      <th>Price</th>\n",
       "      <th>Number</th>\n",
       "    </tr>\n",
       "    <tr>\n",
       "      <th></th>\n",
       "      <th></th>\n",
       "      <th>mean</th>\n",
       "      <th>mean</th>\n",
       "    </tr>\n",
       "    <tr>\n",
       "      <th>Weather</th>\n",
       "      <th>Food</th>\n",
       "      <th></th>\n",
       "      <th></th>\n",
       "    </tr>\n",
       "  </thead>\n",
       "  <tbody>\n",
       "    <tr>\n",
       "      <th rowspan=\"2\" valign=\"top\">cold</th>\n",
       "      <th>icecream</th>\n",
       "      <td>4.440063</td>\n",
       "      <td>6</td>\n",
       "    </tr>\n",
       "    <tr>\n",
       "      <th>soup</th>\n",
       "      <td>2.163119</td>\n",
       "      <td>7</td>\n",
       "    </tr>\n",
       "    <tr>\n",
       "      <th rowspan=\"3\" valign=\"top\">hot</th>\n",
       "      <th>chocolate</th>\n",
       "      <td>5.986585</td>\n",
       "      <td>8</td>\n",
       "    </tr>\n",
       "    <tr>\n",
       "      <th>icecream</th>\n",
       "      <td>1.559945</td>\n",
       "      <td>3</td>\n",
       "    </tr>\n",
       "    <tr>\n",
       "      <th>soup</th>\n",
       "      <td>9.507143</td>\n",
       "      <td>5</td>\n",
       "    </tr>\n",
       "  </tbody>\n",
       "</table>\n",
       "</div>"
      ],
      "text/plain": [
       "                      Price Number\n",
       "                       mean   mean\n",
       "Weather Food                      \n",
       "cold    icecream   4.440063      6\n",
       "        soup       2.163119      7\n",
       "hot     chocolate  5.986585      8\n",
       "        icecream   1.559945      3\n",
       "        soup       9.507143      5"
      ]
     },
     "execution_count": 133,
     "metadata": {},
     "output_type": "execute_result"
    }
   ],
   "source": [
    "gr_df = wf_group.agg([np.mean,np.sum,np.min,np.max])\n",
    "print(type(gr_df))  # DataFrame (인덱스와 컬럼이 MultiIndex인 데이터 프레임)\n",
    "print(gr_df.index)  # MultiIndex\n",
    "\n",
    "print(gr_df.columns) # MultiIndex\n",
    "\n",
    "# MultiIndex형식의 컬럼 접근 방법-1\n",
    "df1 = pd.DataFrame(gr_df['Price']['mean'])\n",
    "df2 = pd.DataFrame(gr_df['Number']['mean'])\n",
    "df3 = pd.concat([df1,df2],axis=1)\n",
    "df3\n",
    "\n",
    "# MultiIndex형식의 컬럼 접근 방법-2\n",
    "gr_df.loc[:,[('Price', 'mean'),('Number', 'mean')]]"
   ]
  },
  {
   "cell_type": "markdown",
   "metadata": {},
   "source": [
    "### pivot_table() 함수"
   ]
  },
  {
   "cell_type": "code",
   "execution_count": 136,
   "metadata": {},
   "outputs": [
    {
     "data": {
      "text/html": [
       "<div>\n",
       "<style scoped>\n",
       "    .dataframe tbody tr th:only-of-type {\n",
       "        vertical-align: middle;\n",
       "    }\n",
       "\n",
       "    .dataframe tbody tr th {\n",
       "        vertical-align: top;\n",
       "    }\n",
       "\n",
       "    .dataframe thead th {\n",
       "        text-align: right;\n",
       "    }\n",
       "</style>\n",
       "<table border=\"1\" class=\"dataframe\">\n",
       "  <thead>\n",
       "    <tr style=\"text-align: right;\">\n",
       "      <th>Weather</th>\n",
       "      <th>cold</th>\n",
       "      <th>hot</th>\n",
       "    </tr>\n",
       "  </thead>\n",
       "  <tbody>\n",
       "    <tr>\n",
       "      <th>Number</th>\n",
       "      <td>26.000000</td>\n",
       "      <td>16.000000</td>\n",
       "    </tr>\n",
       "    <tr>\n",
       "      <th>Price</th>\n",
       "      <td>13.206363</td>\n",
       "      <td>17.053673</td>\n",
       "    </tr>\n",
       "  </tbody>\n",
       "</table>\n",
       "</div>"
      ],
      "text/plain": [
       "Weather       cold        hot\n",
       "Number   26.000000  16.000000\n",
       "Price    13.206363  17.053673"
      ]
     },
     "execution_count": 136,
     "metadata": {},
     "output_type": "execute_result"
    }
   ],
   "source": [
    "pd.pivot_table(df,columns=['Weather'],aggfunc=np.sum) # DataFrame"
   ]
  },
  {
   "cell_type": "code",
   "execution_count": 143,
   "metadata": {},
   "outputs": [
    {
     "data": {
      "text/html": [
       "<div>\n",
       "<style scoped>\n",
       "    .dataframe tbody tr th:only-of-type {\n",
       "        vertical-align: middle;\n",
       "    }\n",
       "\n",
       "    .dataframe tbody tr th {\n",
       "        vertical-align: top;\n",
       "    }\n",
       "\n",
       "    .dataframe thead th {\n",
       "        text-align: right;\n",
       "    }\n",
       "</style>\n",
       "<table border=\"1\" class=\"dataframe\">\n",
       "  <thead>\n",
       "    <tr style=\"text-align: right;\">\n",
       "      <th>Food</th>\n",
       "      <th>chocolate</th>\n",
       "      <th>icecream</th>\n",
       "      <th>soup</th>\n",
       "    </tr>\n",
       "  </thead>\n",
       "  <tbody>\n",
       "    <tr>\n",
       "      <th>Number</th>\n",
       "      <td>8.000000</td>\n",
       "      <td>15.000000</td>\n",
       "      <td>19.00000</td>\n",
       "    </tr>\n",
       "    <tr>\n",
       "      <th>Price</th>\n",
       "      <td>5.986585</td>\n",
       "      <td>10.440071</td>\n",
       "      <td>13.83338</td>\n",
       "    </tr>\n",
       "  </tbody>\n",
       "</table>\n",
       "</div>"
      ],
      "text/plain": [
       "Food    chocolate   icecream      soup\n",
       "Number   8.000000  15.000000  19.00000\n",
       "Price    5.986585  10.440071  13.83338"
      ]
     },
     "execution_count": 143,
     "metadata": {},
     "output_type": "execute_result"
    }
   ],
   "source": [
    "pd.pivot_table(df,columns=['Food'],aggfunc=np.sum)  # DataFrame"
   ]
  },
  {
   "cell_type": "code",
   "execution_count": 145,
   "metadata": {},
   "outputs": [
    {
     "data": {
      "text/plain": [
       "        Weather  Food     \n",
       "Price   cold     icecream      8.880126\n",
       "                 soup          4.326237\n",
       "        hot      chocolate     5.986585\n",
       "                 icecream      1.559945\n",
       "                 soup          9.507143\n",
       "Number  cold     icecream     12.000000\n",
       "                 soup         14.000000\n",
       "        hot      chocolate     8.000000\n",
       "                 icecream      3.000000\n",
       "                 soup          5.000000\n",
       "dtype: float64"
      ]
     },
     "execution_count": 145,
     "metadata": {},
     "output_type": "execute_result"
    }
   ],
   "source": [
    "pd.pivot_table(df,columns=['Weather','Food'],aggfunc=np.sum) # Series"
   ]
  },
  {
   "cell_type": "code",
   "execution_count": null,
   "metadata": {},
   "outputs": [],
   "source": []
  }
 ],
 "metadata": {
  "kernelspec": {
   "display_name": "Python 3",
   "language": "python",
   "name": "python3"
  },
  "language_info": {
   "codemirror_mode": {
    "name": "ipython",
    "version": 3
   },
   "file_extension": ".py",
   "mimetype": "text/x-python",
   "name": "python",
   "nbconvert_exporter": "python",
   "pygments_lexer": "ipython3",
   "version": "3.7.6"
  }
 },
 "nbformat": 4,
 "nbformat_minor": 4
}
