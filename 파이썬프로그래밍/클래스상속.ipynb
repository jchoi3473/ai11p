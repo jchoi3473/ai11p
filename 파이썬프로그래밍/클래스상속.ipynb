{
 "cells": [
  {
   "cell_type": "markdown",
   "metadata": {},
   "source": [
    "### 클래스 상속"
   ]
  },
  {
   "cell_type": "markdown",
   "metadata": {},
   "source": [
    "#### 클래스 A에서 상속된 클래스 B가 있다고 할때, \n",
    "#### 클래스 A를 기반(Base) 클래스, 부모(Parent) 클래스 또는 상위(Super) 클래스라고 하며, \n",
    "#### 클래스 B를 파생(Derived) 클래스, 자식(Child) 클래스 또는 하위(Sub) 클래스라 한다.\n"
   ]
  },
  {
   "cell_type": "code",
   "execution_count": 1,
   "metadata": {},
   "outputs": [
    {
     "name": "stdout",
     "output_type": "stream",
     "text": [
      "(<class 'object'>,)\n"
     ]
    }
   ],
   "source": [
    "class Person:\n",
    "    def __init__( self, name, phone = None ):\n",
    "        self.name = name\n",
    "        self.phone = phone\n",
    "        \n",
    "    def __repr__( self ):\n",
    "            return '<Person {} {}>'.format( self.name, self.phone )\n",
    "        \n",
    "print(Person.__bases__)  # base 클래스를 모두 tuple로 반환 \n",
    "                         # 파이썬의 모든 클래스의 base 클래스는 object 이다."
   ]
  },
  {
   "cell_type": "code",
   "execution_count": 2,
   "metadata": {},
   "outputs": [
    {
     "name": "stdout",
     "output_type": "stream",
     "text": [
      "<Person 박 0101>\n"
     ]
    }
   ],
   "source": [
    "p = Person('박','0101')\n",
    "print(p)"
   ]
  },
  {
   "cell_type": "code",
   "execution_count": 3,
   "metadata": {},
   "outputs": [],
   "source": [
    "class Employee( Person ):                    # base 클래스는 괄호 안에 표현한다.\n",
    "    def __init__( self, name, phone, position, salary ):\n",
    "#         Person.__init__( self, name, phone ) # Person 클래스 생성자 호출\n",
    "        super().__init__( name, phone )      # 상위 클래스 생성자 호출\n",
    "        self.position = position\n",
    "        self.salary = salary\n",
    "        \n",
    "# super() 메서드 : 현재 클래스의 상위(수퍼) 클래스를 얻어 낸다"
   ]
  },
  {
   "cell_type": "code",
   "execution_count": 4,
   "metadata": {},
   "outputs": [
    {
     "name": "stdout",
     "output_type": "stream",
     "text": [
      "<Person 김 1111>\n",
      "<Person 홍 2222>\n",
      "김 과장\n",
      "홍 부장\n"
     ]
    }
   ],
   "source": [
    "m1 = Employee('김','1111','과장',500)  #  주피터 노트북에서 다시 실행 시킬때 반드시 Kernel Restart시킬 것\n",
    "print(m1)\n",
    "m2 = Employee('홍','2222','부장',500)\n",
    "print(m2)\n",
    "\n",
    "print( m1.name, m1.position )\n",
    "print( m2.name, m2.position )  # 그림으로 설명"
   ]
  },
  {
   "cell_type": "code",
   "execution_count": 5,
   "metadata": {},
   "outputs": [
    {
     "name": "stdout",
     "output_type": "stream",
     "text": [
      "C.__init__\n",
      "A.__init__\n",
      "B.__init__\n"
     ]
    }
   ],
   "source": [
    "# super() 메서드\n",
    "class A:\n",
    "    def __init__(self):\n",
    "        print('A.__init__')\n",
    "        super().__init__()\n",
    "class B:\n",
    "    def __init__(self):\n",
    "        print('B.__init__')\n",
    "        super().__init__()\n",
    "class C(A, B):\n",
    "    def __init__(self):\n",
    "        print('C.__init__')\n",
    "        super().__init__()\n",
    "\n",
    "c = C()"
   ]
  },
  {
   "cell_type": "code",
   "execution_count": 6,
   "metadata": {},
   "outputs": [
    {
     "name": "stdout",
     "output_type": "stream",
     "text": [
      "<Employee son 5564 대리 200>\n"
     ]
    }
   ],
   "source": [
    "# 메서드의 대치 \n",
    "# 하위 클래스와 상위 클래스에 같은 메서드가 있을 때 우선순위는 하위 클래스이다.\n",
    "class Employee( Person ):\n",
    "    def __init__( self, name, phone, position, salary ):\n",
    "        super().__init__(name, phone )\n",
    "        self.position = position\n",
    "        self.salary = salary\n",
    "    def __repr__( self ):\n",
    "        return '<Employee {} {} {} {}>'.format( self.name, \n",
    "                self.phone, self.position, self.salary )\n",
    "\n",
    "m1 = Employee( 'son', 5564, '대리', 200 )\n",
    "print(m1)"
   ]
  },
  {
   "cell_type": "code",
   "execution_count": 7,
   "metadata": {},
   "outputs": [
    {
     "name": "stdout",
     "output_type": "stream",
     "text": [
      "<Person son 5564><Employee 대리 200>\n"
     ]
    }
   ],
   "source": [
    "# 메서드의 확장\n",
    "# 하위 클래스에서 그 속성을 변화시키지 위해서 상위 클래스의 메서드를 호출하고, \n",
    "# 그 결과를 활용하는 것을 말한다. \n",
    "class Employee( Person ):\n",
    "    def __init__( self, name, phone, position, salary ):\n",
    "        super().__init__(name, phone )\n",
    "        self.position = position\n",
    "        self.salary = salary\n",
    "    def __repr__( self ):\n",
    "        s = super().__repr__()\n",
    "        return s + '<Employee {} {}>'.format( self.position, self.salary )\n",
    "\n",
    "m1 = Employee( 'son', 5564, '대리', 200 )\n",
    "print(m1)"
   ]
  },
  {
   "cell_type": "code",
   "execution_count": 8,
   "metadata": {},
   "outputs": [
    {
     "name": "stdout",
     "output_type": "stream",
     "text": [
      "I am Simple class\n"
     ]
    }
   ],
   "source": [
    "# __repr__ 메서드\n",
    "class Simple :\n",
    "    def __repr__(self):\n",
    "        return 'I am Simple class'\n",
    "\n",
    "s1 = Simple()\n",
    "print(s1)    "
   ]
  },
  {
   "cell_type": "code",
   "execution_count": 9,
   "metadata": {},
   "outputs": [
    {
     "name": "stdout",
     "output_type": "stream",
     "text": [
      "str is called\n",
      "str is called\n"
     ]
    }
   ],
   "source": [
    "# 문자열 변환 연산 : 연산자 중복\n",
    "# print() 함수와 str() 함수에 의해서 __str__() 메서드가 호출되며, \n",
    "# repr() 함수에 의해서 __repr__() 메서드가 호출된다.\n",
    "# __repr__() 메서드의 목적은 객체를 대표해서 유일하게 표현할 수 있는 문자열을 만들어 내는 것이다\n",
    "class StringRepr:\n",
    "    def __str__( self ):\n",
    "        return 'str is called'\n",
    "\n",
    "s = StringRepr()\n",
    "print(s) # str is called\n",
    "print(str(s))\n",
    "# print(repr(s)) # 호출안됨"
   ]
  },
  {
   "cell_type": "code",
   "execution_count": 10,
   "metadata": {},
   "outputs": [
    {
     "name": "stdout",
     "output_type": "stream",
     "text": [
      "repr is called\n",
      "repr is called\n",
      "repr is called\n"
     ]
    }
   ],
   "source": [
    "class StringRepr:\n",
    "    def __repr__( self ):\n",
    "        return 'repr is called'\n",
    "    \n",
    "s = StringRepr()\n",
    "print(s) # repr is called\n",
    "print(repr(s))\n",
    "print(str(s))\n",
    "\n",
    "# 만일 __str__() 메서드를 호출할 상황에서 __str__() 메서드가 정의되어 있지 않으면\n",
    "# __repr__() 메서드가 대신 호출된다\n",
    "# 그러나 __repr__() 메서드가 정의되어 있지 않은 경우에 __str__() 메서드가 __repr__() 메서드를 대신하지 않는다."
   ]
  },
  {
   "cell_type": "code",
   "execution_count": 11,
   "metadata": {},
   "outputs": [
    {
     "name": "stdout",
     "output_type": "stream",
     "text": [
      "str is called\n",
      "str is called\n",
      "repr is called\n"
     ]
    }
   ],
   "source": [
    "class StringRepr:\n",
    "    def __str__( self ):\n",
    "        return 'str is called'\n",
    "    def __repr__( self ):\n",
    "        return 'repr is called'\n",
    "\n",
    "s = StringRepr()\n",
    "print(s) # str is called\n",
    "print(str(s))\n",
    "print(repr(s))"
   ]
  },
  {
   "cell_type": "code",
   "execution_count": 12,
   "metadata": {},
   "outputs": [
    {
     "name": "stdout",
     "output_type": "stream",
     "text": [
      "(<class '__main__.C'>, <class '__main__.AA'>, <class '__main__.A'>, <class '__main__.BB'>, <class '__main__.B'>, <class 'object'>)\n",
      "[<class '__main__.C'>, <class '__main__.AA'>, <class '__main__.A'>, <class '__main__.BB'>, <class '__main__.B'>, <class 'object'>]\n"
     ]
    }
   ],
   "source": [
    "# 메서드 처리 순서\n",
    "class A:\n",
    "    def __init__( self ):\n",
    "        pass\n",
    "class B:\n",
    "    def __init__( self ):\n",
    "        pass\n",
    "class AA( A ): \n",
    "    pass\n",
    "class BB( B ): \n",
    "    pass\n",
    "class C( AA, BB ): \n",
    "    pass\n",
    "\n",
    "c = C()\n",
    "\n",
    "# __init__() 메서드의 검색 순서는 다음과 같다.\n",
    "# C -> AA -> A -> BB -> B -> Object\n",
    "\n",
    "print(C.__mro__)\n",
    "print(C.mro())   # method reference order "
   ]
  },
  {
   "cell_type": "code",
   "execution_count": 13,
   "metadata": {},
   "outputs": [
    {
     "name": "stdout",
     "output_type": "stream",
     "text": [
      "name = hong tel = 5244 position = 과장 salary = 300.0\n"
     ]
    }
   ],
   "source": [
    "# 다중 상속(Multiple Inheritance)\n",
    "\n",
    "# 두 개 이상의 클래스로부터 상속받는 것을 다중 상속(Multiple Inheritance)이라고 한다.\n",
    "# 다중 상속 클래스 정의는\n",
    "#    class Employee( Person, Job ):\n",
    "# 와 같이 기반 클래스 이름들을 나열하면 된다.\n",
    "\n",
    "class Person:\n",
    "    def __init__( self, name, phone = None ):\n",
    "        self.name = name\n",
    "        self.phone = phone\n",
    "    def __repr__( self ):\n",
    "        return 'name = {} tel = {}'.format( self.name, self.phone )\n",
    "\n",
    "class Job:\n",
    "    def __init__( self, position, salary ):\n",
    "        self.position = position\n",
    "        self.salary = salary\n",
    "    def __repr__( self ):\n",
    "        return 'position = {} salary = {}'.format( self.position, self.salary ) \n",
    "\n",
    "class Employee( Person, Job ):\n",
    "    def __init__( self, name, phone, position, salary ):\n",
    "        Person.__init__( self, name, phone )\n",
    "        Job.__init__( self, position, salary )\n",
    "    def raisesalary( self, rate ):\n",
    "        self.salary = self.salary * rate \n",
    "    def __repr__( self ): \n",
    "        return Person.__repr__( self ) + ' ' + Job.__repr__( self )\n",
    "\n",
    "if __name__ == '__main__':\n",
    "    e = Employee( 'hong', 5244, '과장', 200 )\n",
    "    e.raisesalary( 1.5 )\n",
    "    print( e )\n"
   ]
  },
  {
   "cell_type": "code",
   "execution_count": 14,
   "metadata": {},
   "outputs": [
    {
     "name": "stdout",
     "output_type": "stream",
     "text": [
      "Thread-6=>0\n",
      "Thread-7=>0\n",
      "  Thread-7=>1\n",
      "Thread-6=>1\n",
      "  Thread-6=>2\n",
      "Thread-7=>2\n",
      "  Thread-6=>3\n",
      "Thread-7=>3\n",
      "  Thread-6=>4\n",
      "Thread-7=>4\n",
      "  Thread-6=>5\n",
      "Thread-7=>5\n",
      "  Thread-6=>6\n",
      "Thread-7=>6\n",
      "  Thread-6=>7\n",
      "Thread-7=>7\n",
      "  Thread-7=>8\n",
      "Thread-6=>8\n",
      "  Thread-7=>9\n",
      "Thread-6=>9\n",
      "  "
     ]
    }
   ],
   "source": [
    "# 다중 스레드(multithread)\n",
    "\n",
    "import time\n",
    "from threading import *\t\t\t# 스레드 클래스를 제공하는 모듈 : threading\n",
    "class MyThread(Thread):\t\t\t# 하위 클래스 MyThread를 정의한다.\n",
    "    def __init__(self):\n",
    "        super().__init__()\t\t# 기반 클래스의 초기화 루틴을 불러야 한다.\n",
    "\n",
    "    def run(self):\t\t\t\t# 실제적으로 실행을 위해서 정의해야 할 부분이다.\n",
    "        for k in range(10):\t\t# 10번 반복한다.\n",
    "            print('{}=>{}\\n'.format(self.getName(), k), end=' ')\n",
    "            time.sleep(1)\t\t# 1초 대기\n",
    "\n",
    "thread1 = MyThread()\t\t\t# 스레드 객체(인스턴스) thread1 생성\n",
    "thread2 = MyThread()\t\t\t# 스레드 객체(인스턴스) thread2 생성\n",
    "thread1.start()\t\t\t\t\t# 스레드 실행 시작. run() 메서드가 호출된다.\n",
    "thread2.start()"
   ]
  },
  {
   "cell_type": "code",
   "execution_count": null,
   "metadata": {},
   "outputs": [],
   "source": []
  }
 ],
 "metadata": {
  "kernelspec": {
   "display_name": "Python 3",
   "language": "python",
   "name": "python3"
  },
  "language_info": {
   "codemirror_mode": {
    "name": "ipython",
    "version": 3
   },
   "file_extension": ".py",
   "mimetype": "text/x-python",
   "name": "python",
   "nbconvert_exporter": "python",
   "pygments_lexer": "ipython3",
   "version": "3.7.6"
  }
 },
 "nbformat": 4,
 "nbformat_minor": 4
}
