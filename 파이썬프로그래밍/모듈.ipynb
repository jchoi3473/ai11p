{
 "cells": [
  {
   "cell_type": "markdown",
   "metadata": {},
   "source": [
    "### 모듈\n",
    "#### : 함수나 변수 또는 클래스를 모아놓은 소스 파일, xxx.py"
   ]
  },
  {
   "cell_type": "code",
   "execution_count": 1,
   "metadata": {},
   "outputs": [],
   "source": [
    "# # 함수 정의\n",
    "# def add(a,b):\n",
    "#     c = a + b\n",
    "#     print('add is called!')\n",
    "#     return c\n",
    "\n",
    "# def subtract(a,b):\n",
    "#     c = a - b\n",
    "#     print('subtract is called!')\n",
    "#     return c\n",
    "\n",
    "# def multiply(a,b):\n",
    "#     c = a * b\n",
    "#     print('multiply is called!')\n",
    "#     return c\n",
    "\n",
    "# def divide(a,b):\n",
    "#     c = a / b\n",
    "#     print('divide is called!')\n",
    "#     return c\n",
    "\n",
    "\n",
    "# if __name__ == '__main__':\n",
    "#     ret = add(10,20)\n",
    "#     print(ret)\n",
    "\n",
    "#     ret = subtract(10,20)\n",
    "#     print(ret)"
   ]
  },
  {
   "cell_type": "code",
   "execution_count": 2,
   "metadata": {},
   "outputs": [
    {
     "name": "stdout",
     "output_type": "stream",
     "text": [
      "add is called!\n",
      "30\n",
      "subtract is called!\n",
      "-10\n"
     ]
    }
   ],
   "source": [
    "# 외부 모듈을 import  : 함수로 구현된 모듈을 import\n",
    "import calculator as cl\n",
    "\n",
    "if __name__ == '__main__':\n",
    "    ret = cl.add(10,20)\n",
    "    print(ret)\n",
    "\n",
    "    ret = cl.subtract(10,20)\n",
    "    print(ret)"
   ]
  },
  {
   "cell_type": "code",
   "execution_count": 3,
   "metadata": {},
   "outputs": [],
   "source": [
    "import numpy as np\n",
    "import pandas as pd\n",
    "import tensorflow as tf\n",
    "\n",
    "# 파이썬 외부 모듈(라이브러리) 설치 경로\n",
    "# C:\\Users\\사용자계정명\\Anaconda3\\Lib\\site-packages\n",
    "# >> pip install tensorflow"
   ]
  },
  {
   "cell_type": "code",
   "execution_count": 4,
   "metadata": {},
   "outputs": [],
   "source": [
    "# first.py (import second),  second.py ,   third.py\n",
    "# >> Python first.py     # __name__ 은 '__main__' , second.py의 __name__은 'second'\n",
    "# >> Python second.py    # second.py의 __name__은 '__main__'"
   ]
  },
  {
   "cell_type": "code",
   "execution_count": 5,
   "metadata": {},
   "outputs": [],
   "source": [
    "# globals()['__name__']"
   ]
  },
  {
   "cell_type": "code",
   "execution_count": 6,
   "metadata": {},
   "outputs": [
    {
     "name": "stdout",
     "output_type": "stream",
     "text": [
      "add is called!\n"
     ]
    },
    {
     "data": {
      "text/plain": [
       "30"
      ]
     },
     "execution_count": 6,
     "metadata": {},
     "output_type": "execute_result"
    }
   ],
   "source": [
    "# 패키지나 모듈에서 일부 함수나 클래스를 가져오는 경우 \n",
    "from calculator import add\n",
    "from calculator import add,subtract\n",
    "from calculator import *\n",
    "add(10,20)"
   ]
  },
  {
   "cell_type": "code",
   "execution_count": 3,
   "metadata": {},
   "outputs": [],
   "source": [
    "# # calculator_class.py\n",
    "\n",
    "# # 클래스 생성\n",
    "# class Calc:\n",
    "#     def __init__(self):  # 생성자 메서드\n",
    "#         self.a = 0       # 멤버 변수 생성 및 초기화  \n",
    "#         self.b = 0       # 멤버 변수 생성 및 초기화  \n",
    "#         self.c = 0       # 멤버 변수 생성 및 초기화  \n",
    "        \n",
    "#     def add(self,a,b):   # 인스턴스 메서드\n",
    "#         self.a = a\n",
    "#         self.b = b\n",
    "#         self.c = self.a + self.b\n",
    "#         return self.c\n",
    "\n",
    "#     def subtract(self,a,b):\n",
    "#         self.a = a\n",
    "#         self.b = b\n",
    "#         self.c = self.a - self.b\n",
    "#         return self.c\n",
    "\n",
    "#     def multiply(self,a,b):\n",
    "#         self.a = a\n",
    "#         self.b = b\n",
    "#         self.c = self.a * self.b\n",
    "#         return self.c\n",
    "\n",
    "#     def divide(self,a,b):\n",
    "#         self.a = a\n",
    "#         self.b = b\n",
    "#         self.c = self.a / self.b\n",
    "#         return self.c\n",
    "\n",
    "# if __name__ == '__main__':\n",
    "    \n",
    "#     c1 = Calc()      # 인스턴스 객체의 생성\n",
    "#     ret = c1.add(10,20)\n",
    "#     print(ret)\n",
    "\n",
    "#     ret = c1.subtract(50,30)\n",
    "#     print(ret)\n",
    "    \n",
    "#     print(c1.a,c1.b,c1.c)\n",
    "\n"
   ]
  },
  {
   "cell_type": "code",
   "execution_count": 7,
   "metadata": {},
   "outputs": [
    {
     "name": "stdout",
     "output_type": "stream",
     "text": [
      "300\n",
      "200\n",
      "500 300 200\n"
     ]
    }
   ],
   "source": [
    "# 외부 모듈을 import  : class로 구현된 모듈을 import\n",
    "import calculator_class as clc\n",
    "\n",
    "if __name__ == '__main__':\n",
    "    \n",
    "    c1 = clc.Calc()             # 인스턴스 객체의 생성\n",
    "    \n",
    "    ret = c1.add(100,200)       # 인스턴스 메서드의 호출\n",
    "    print(ret)\n",
    "\n",
    "    ret = c1.subtract(500,300)  # 인스턴스 메서드의 호출\n",
    "    print(ret)\n",
    "    \n",
    "    print(c1.a,c1.b,c1.c)       # 인스턴스 멤버의 접근"
   ]
  },
  {
   "cell_type": "code",
   "execution_count": null,
   "metadata": {},
   "outputs": [],
   "source": []
  }
 ],
 "metadata": {
  "kernelspec": {
   "display_name": "Python 3",
   "language": "python",
   "name": "python3"
  },
  "language_info": {
   "codemirror_mode": {
    "name": "ipython",
    "version": 3
   },
   "file_extension": ".py",
   "mimetype": "text/x-python",
   "name": "python",
   "nbconvert_exporter": "python",
   "pygments_lexer": "ipython3",
   "version": "3.7.6"
  }
 },
 "nbformat": 4,
 "nbformat_minor": 4
}
