{
 "cells": [
  {
   "cell_type": "markdown",
   "metadata": {},
   "source": [
    "### 클래스(Class)"
   ]
  },
  {
   "cell_type": "code",
   "execution_count": null,
   "metadata": {},
   "outputs": [],
   "source": [
    "* 파이썬 클래스 관련 용어\n",
    "(1) 클래스(class) : class 문으로 정의하며, 멤버와 메서드를 가지는 객체이다, 새로운 이름 공간을 갖는 단위\n",
    "(2) 클래스 객체(class object) : 클래스와 같은 의미\n",
    "\n",
    "(3) 클래스 인스턴스  : 클래스를 호출하여 생성된 객체  \n",
    "(4) 클래스 인스턴스 객체 : 클래스 인스턴스와 같은 의미\n",
    "\n",
    "(5) 멤버 : 클래스 혹은 클래스 인스턴스 공간에 정의 된 변수\n",
    "(6) 메서드 : 클래스 공간에 정의된 함수, def 사용\n",
    "(7) 속성(Attribute) : 멤버와 메서드 전체를 가리킨다\n",
    "\n",
    "(8) 상속 : 상위 클래스의 속성과 행동을 그대로 받아들이고 추가로 필요한 기능"
   ]
  },
  {
   "cell_type": "code",
   "execution_count": 7,
   "metadata": {},
   "outputs": [
    {
     "name": "stdout",
     "output_type": "stream",
     "text": [
      "<class '__main__.Simple'>\n",
      "<__main__.Simple object at 0x000002080EA15608>\n",
      "<__main__.Simple object at 0x000002080EA15688>\n"
     ]
    }
   ],
   "source": [
    "# class 클래스 이름 :\n",
    "#        속성 .... \n",
    "\n",
    "# 클래스 생성\n",
    "class Simple:\n",
    "    pass\n",
    "\n",
    "print(Simple)\n",
    "\n",
    "# 인스턴스의 생성\n",
    "s1 = Simple()\n",
    "print(s1)\n",
    "\n",
    "s2 = Simple()\n",
    "print(s2)\n",
    "\n",
    "# 인스턴스의 삭제(소멸) : 파이썬에서는 종료시 자동으로 소멸\n",
    "del s1\n",
    "# print(s1) # NameError                                 "
   ]
  },
  {
   "cell_type": "code",
   "execution_count": 24,
   "metadata": {},
   "outputs": [
    {
     "name": "stdout",
     "output_type": "stream",
     "text": [
      "100\n",
      "[1, 2, 3, 4]\n",
      "Hi\n",
      "300\n",
      "300\n",
      "500\n",
      "300\n",
      "300\n",
      "700\n",
      "300\n"
     ]
    }
   ],
   "source": [
    "# 멤버 접근 : 클래스 멤버와 인스턴스 멤버\n",
    "\n",
    "# (1) 클래스 멤버\n",
    "class MyClass:\n",
    "    cl_mem = 100        # 클래스 멤버   \n",
    "    cl_list = [1,2,3,4] # 클래스 멤버   \n",
    "    a = 'Hi'            # 클래스 멤버   \n",
    "\n",
    "# 클래스 객체를 통해서 접근\n",
    "print(MyClass.cl_mem)\n",
    "print(MyClass.cl_list)\n",
    "print(MyClass.a)\n",
    "\n",
    "# 변경\n",
    "MyClass.cl_mem = 300\n",
    "print(MyClass.cl_mem)\n",
    "\n",
    "# 인스턴스 객체를 통해서 접근\n",
    "m1 = MyClass()     # 인스턴스 생성\n",
    "print(m1.cl_mem) \n",
    "m1.cl_mem = 500\n",
    "print(m1.cl_mem)        # 500\n",
    "print(MyClass.cl_mem)   # 300\n",
    "\n",
    "m2 = MyClass()     # 인스턴스 생성\n",
    "print(m2.cl_mem)\n",
    "m2.cl_mem = 700\n",
    "print(m2.cl_mem)        # 700\n",
    "print(MyClass.cl_mem)   # 300"
   ]
  },
  {
   "cell_type": "code",
   "execution_count": null,
   "metadata": {},
   "outputs": [],
   "source": [
    "# (2) 인스턴스 멤버의 구현과 접근\n"
   ]
  }
 ],
 "metadata": {
  "kernelspec": {
   "display_name": "Python 3",
   "language": "python",
   "name": "python3"
  },
  "language_info": {
   "codemirror_mode": {
    "name": "ipython",
    "version": 3
   },
   "file_extension": ".py",
   "mimetype": "text/x-python",
   "name": "python",
   "nbconvert_exporter": "python",
   "pygments_lexer": "ipython3",
   "version": "3.7.6"
  }
 },
 "nbformat": 4,
 "nbformat_minor": 4
}
